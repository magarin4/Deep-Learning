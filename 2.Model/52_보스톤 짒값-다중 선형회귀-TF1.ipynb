{
 "cells": [
  {
   "cell_type": "markdown",
   "metadata": {},
   "source": [
    "# 다중 선형회귀\n",
    "## 보스톤 집값"
   ]
  },
  {
   "cell_type": "code",
   "execution_count": 1,
   "metadata": {},
   "outputs": [
    {
     "name": "stdout",
     "output_type": "stream",
     "text": [
      "WARNING:tensorflow:From C:\\Users\\EZEN\\Anaconda3\\lib\\site-packages\\tensorflow_core\\python\\compat\\v2_compat.py:65: disable_resource_variables (from tensorflow.python.ops.variable_scope) is deprecated and will be removed in a future version.\n",
      "Instructions for updating:\n",
      "non-resource variables are not supported in the long term\n"
     ]
    }
   ],
   "source": [
    "import numpy as np\n",
    "import pandas as pd\n",
    "import tensorflow.compat.v1 as tf\n",
    "tf.disable_v2_behavior()\n",
    "from sklearn.model_selection import train_test_split"
   ]
  },
  {
   "cell_type": "code",
   "execution_count": 2,
   "metadata": {},
   "outputs": [],
   "source": [
    "# seed 값 생성\n",
    "seed = 0\n",
    "np.random.seed(seed)\n",
    "tf.set_random_seed(seed)"
   ]
  },
  {
   "cell_type": "code",
   "execution_count": 3,
   "metadata": {},
   "outputs": [
    {
     "name": "stdout",
     "output_type": "stream",
     "text": [
      "(506, 13) (506, 1)\n"
     ]
    }
   ],
   "source": [
    "df = pd.read_csv(\"dataset/housing.csv\", delim_whitespace=True, header=None)\n",
    "dataset = df.values\n",
    "x_data = np.array(dataset[:,0:13], dtype=np.float64)\n",
    "y_data = np.array(dataset[:,13], dtype=np.float64).reshape(-1,1)\n",
    "print(x_data.shape, y_data.shape)"
   ]
  },
  {
   "cell_type": "code",
   "execution_count": 4,
   "metadata": {},
   "outputs": [],
   "source": [
    "X_train, X_test, Y_train, Y_test = train_test_split(x_data, y_data, test_size=0.3, \n",
    "                                                    random_state=seed)"
   ]
  },
  {
   "cell_type": "code",
   "execution_count": 20,
   "metadata": {},
   "outputs": [],
   "source": [
    "# 입력 값을 플레이스 홀더에 저장\n",
    "X = tf.placeholder(tf.float64, shape=[None, 13])\n",
    "Y = tf.placeholder(tf.float64, shape=[None, 1])"
   ]
  },
  {
   "cell_type": "code",
   "execution_count": 21,
   "metadata": {},
   "outputs": [],
   "source": [
    "# Layer 1\n",
    "W1 = tf.Variable(tf.random_normal([13,30], dtype=tf.float64)) \n",
    "b1 = tf.Variable(tf.random_normal([30], dtype=tf.float64))\n",
    "#L1 = tf.nn.relu(tf.add(tf.matmul(X, W1), b1))\n",
    "L1 = tf.add(tf.matmul(X, W1), b1)"
   ]
  },
  {
   "cell_type": "code",
   "execution_count": 22,
   "metadata": {},
   "outputs": [],
   "source": [
    "# Layer 2\n",
    "W2 = tf.Variable(tf.random_normal([30,6], dtype=tf.float64)) \n",
    "b2 = tf.Variable(tf.random_normal([6], dtype=tf.float64))\n",
    "#L2 = tf.nn.relu(tf.add(tf.matmul(L1, W2), b2))\n",
    "L2 = tf.add(tf.matmul(L1, W2), b2)"
   ]
  },
  {
   "cell_type": "code",
   "execution_count": 23,
   "metadata": {},
   "outputs": [],
   "source": [
    "# Layer 3\n",
    "W3 = tf.Variable(tf.random_normal([6,1], dtype=tf.float64)) \n",
    "b3 = tf.Variable(tf.random_normal([1], dtype=tf.float64))\n",
    "hypo = tf.add(tf.matmul(L2, W3), b3)"
   ]
  },
  {
   "cell_type": "code",
   "execution_count": 24,
   "metadata": {},
   "outputs": [],
   "source": [
    "# Mean Squared Error\n",
    "cost = tf.reduce_mean(tf.square(Y - hypo))"
   ]
  },
  {
   "cell_type": "code",
   "execution_count": 25,
   "metadata": {},
   "outputs": [],
   "source": [
    "learning_rate = 0.1\n",
    "train = tf.train.AdamOptimizer(learning_rate).minimize(cost)"
   ]
  },
  {
   "cell_type": "code",
   "execution_count": 26,
   "metadata": {},
   "outputs": [
    {
     "name": "stdout",
     "output_type": "stream",
     "text": [
      "step=1, \tcost_val=4227517.51872\n",
      "step=101, \tcost_val=1799.22513\n",
      "step=201, \tcost_val=419.25091\n",
      "step=301, \tcost_val=243.56352\n",
      "step=401, \tcost_val=168.42149\n",
      "step=501, \tcost_val=134.73479\n",
      "step=601, \tcost_val=116.09776\n",
      "step=701, \tcost_val=102.74672\n",
      "step=801, \tcost_val=91.96544\n",
      "step=901, \tcost_val=83.09260\n",
      "step=1001, \tcost_val=75.86713\n",
      "step=1101, \tcost_val=70.05712\n",
      "step=1201, \tcost_val=65.41973\n",
      "step=1301, \tcost_val=61.71713\n",
      "step=1401, \tcost_val=58.73296\n",
      "step=1501, \tcost_val=56.28191\n",
      "step=1601, \tcost_val=54.21331\n",
      "step=1701, \tcost_val=52.41034\n",
      "step=1801, \tcost_val=50.78651\n",
      "step=1901, \tcost_val=49.28067\n",
      "step=2001, \tcost_val=47.85169\n"
     ]
    }
   ],
   "source": [
    "# 학습\n",
    "sess = tf.Session()\n",
    "sess.run(tf.global_variables_initializer())\n",
    "\n",
    "for epoch in range(2001):\n",
    "    sess.run(train, feed_dict = {X: X_train, Y: Y_train})\n",
    "    if epoch % 100 == 0:\n",
    "        cost_val = sess.run(cost, feed_dict = {X: X_train, Y: Y_train})\n",
    "        print(\"step=%d, \\tcost_val=%.5f\" % (epoch + 1, cost_val))\n",
    "    \n",
    "W1_, W2_, W3_, b1_, b2_, b3_ = sess.run([W1, W2, W3, b1, b2, b3])"
   ]
  },
  {
   "cell_type": "code",
   "execution_count": 27,
   "metadata": {},
   "outputs": [
    {
     "data": {
      "text/plain": [
       "(array([6.7240e-02, 0.0000e+00, 3.2400e+00, 0.0000e+00, 4.6000e-01,\n",
       "        6.3330e+00, 1.7200e+01, 5.2146e+00, 4.0000e+00, 4.3000e+02,\n",
       "        1.6900e+01, 3.7521e+02, 7.3400e+00]), array([22.6]))"
      ]
     },
     "execution_count": 27,
     "metadata": {},
     "output_type": "execute_result"
    }
   ],
   "source": [
    "X_test[0,:], Y_test[0]"
   ]
  },
  {
   "cell_type": "code",
   "execution_count": 28,
   "metadata": {},
   "outputs": [
    {
     "data": {
      "text/plain": [
       "18.31252807702382"
      ]
     },
     "execution_count": 28,
     "metadata": {},
     "output_type": "execute_result"
    }
   ],
   "source": [
    "hypo_val = sess.run(hypo, feed_dict = {X: X_test[0,:].reshape(1,13)})\n",
    "hypo_val[0].item()"
   ]
  },
  {
   "cell_type": "code",
   "execution_count": 29,
   "metadata": {},
   "outputs": [
    {
     "data": {
      "text/plain": [
       "3.044841093939292"
      ]
     },
     "execution_count": 29,
     "metadata": {},
     "output_type": "execute_result"
    }
   ],
   "source": [
    "hypo_val = sess.run(hypo, feed_dict = {X: X_test[10,:].reshape(1,13)})\n",
    "hypo_val[0].item()"
   ]
  },
  {
   "cell_type": "code",
   "execution_count": 30,
   "metadata": {},
   "outputs": [
    {
     "data": {
      "text/plain": [
       "(numpy.ndarray, float, float)"
      ]
     },
     "execution_count": 30,
     "metadata": {},
     "output_type": "execute_result"
    }
   ],
   "source": [
    "real = float(Y_test[0].item())\n",
    "type(Y_test[0]), type(Y_test[0].item()), type(real)"
   ]
  },
  {
   "cell_type": "code",
   "execution_count": 31,
   "metadata": {},
   "outputs": [
    {
     "name": "stdout",
     "output_type": "stream",
     "text": [
      "실제가격: 22.600, 예상가격: 18.313\n",
      "실제가격: 50.000, 예상가격: 26.754\n",
      "실제가격: 23.000, 예상가격: 30.291\n",
      "실제가격: 8.300, 예상가격: 17.480\n",
      "실제가격: 21.200, 예상가격: 21.023\n",
      "실제가격: 19.900, 예상가격: 24.397\n",
      "실제가격: 20.600, 예상가격: 20.888\n",
      "실제가격: 18.700, 예상가격: 24.319\n",
      "실제가격: 16.100, 예상가격: 13.770\n",
      "실제가격: 18.600, 예상가격: 14.886\n"
     ]
    }
   ],
   "source": [
    "for i in range(10):\n",
    "    hypo_val = sess.run(hypo, feed_dict = {X: X_test[i,:].reshape(1,13)})\n",
    "    real = float(Y_test[i].item())\n",
    "    print(\"실제가격: {:.3f}, 예상가격: {:.3f}\".format(real, hypo_val[0].item()))"
   ]
  },
  {
   "cell_type": "code",
   "execution_count": null,
   "metadata": {},
   "outputs": [],
   "source": []
  },
  {
   "cell_type": "code",
   "execution_count": 14,
   "metadata": {},
   "outputs": [],
   "source": [
    "def ReLU(x):\n",
    "    return x * (x > 0)"
   ]
  },
  {
   "cell_type": "code",
   "execution_count": 15,
   "metadata": {},
   "outputs": [
    {
     "data": {
      "text/plain": [
       "array([[1026.23829698,   -0.        ,  171.87386865,   -0.        ,\n",
       "         910.37609293,   -0.        ,   -0.        ,  385.50032964,\n",
       "          -0.        ,   -0.        ,  481.81291107,   -0.        ,\n",
       "          -0.        ,   -0.        ,   -0.        ,   -0.        ,\n",
       "        1504.30751992,   -0.        ,   -0.        ,   -0.        ,\n",
       "          -0.        ,   -0.        ,   -0.        ,  562.77518204,\n",
       "          -0.        ,  311.44563972,   -0.        ,   -0.        ,\n",
       "         224.98064201,   -0.        ]])"
      ]
     },
     "execution_count": 15,
     "metadata": {},
     "output_type": "execute_result"
    }
   ],
   "source": [
    "L1_ = ReLU(np.matmul(X_test[0,:].reshape(1,13), W1_) + b1_)\n",
    "L1_"
   ]
  },
  {
   "cell_type": "code",
   "execution_count": 19,
   "metadata": {},
   "outputs": [
    {
     "data": {
      "text/plain": [
       "array([[-0., -0., -0., -0., -0., -0.]])"
      ]
     },
     "execution_count": 19,
     "metadata": {},
     "output_type": "execute_result"
    }
   ],
   "source": [
    "L2_ = ReLU(np.matmul(L1_, W2_) + b2_)\n",
    "L2_"
   ]
  },
  {
   "cell_type": "code",
   "execution_count": 20,
   "metadata": {},
   "outputs": [
    {
     "data": {
      "text/plain": [
       "array([[22.28272214]])"
      ]
     },
     "execution_count": 20,
     "metadata": {},
     "output_type": "execute_result"
    }
   ],
   "source": [
    "H = np.matmul(L2_, W3_) + b3_\n",
    "H"
   ]
  },
  {
   "cell_type": "code",
   "execution_count": null,
   "metadata": {},
   "outputs": [],
   "source": []
  }
 ],
 "metadata": {
  "kernelspec": {
   "display_name": "Python 3",
   "language": "python",
   "name": "python3"
  },
  "language_info": {
   "codemirror_mode": {
    "name": "ipython",
    "version": 3
   },
   "file_extension": ".py",
   "mimetype": "text/x-python",
   "name": "python",
   "nbconvert_exporter": "python",
   "pygments_lexer": "ipython3",
   "version": "3.7.3"
  }
 },
 "nbformat": 4,
 "nbformat_minor": 2
}
