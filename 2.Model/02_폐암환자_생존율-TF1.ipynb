{
 "cells": [
  {
   "cell_type": "markdown",
   "metadata": {},
   "source": [
    "## 폐암 수술 환자의 생존율 데이터 분석"
   ]
  },
  {
   "cell_type": "code",
   "execution_count": 1,
   "metadata": {},
   "outputs": [
    {
     "name": "stdout",
     "output_type": "stream",
     "text": [
      "WARNING:tensorflow:From C:\\Users\\EZEN\\Anaconda3\\lib\\site-packages\\tensorflow_core\\python\\compat\\v2_compat.py:65: disable_resource_variables (from tensorflow.python.ops.variable_scope) is deprecated and will be removed in a future version.\n",
      "Instructions for updating:\n",
      "non-resource variables are not supported in the long term\n"
     ]
    }
   ],
   "source": [
    "# 필요한 라이브러리\n",
    "import numpy as np\n",
    "import tensorflow.compat.v1 as tf\n",
    "tf.disable_v2_behavior()"
   ]
  },
  {
   "cell_type": "code",
   "execution_count": 2,
   "metadata": {},
   "outputs": [],
   "source": [
    "# 실행할 때마다 같은 결과를 출력하기 위한 seed 값 설정\n",
    "seed = 0\n",
    "np.random.seed(seed)\n",
    "tf.set_random_seed(seed)"
   ]
  },
  {
   "cell_type": "code",
   "execution_count": 3,
   "metadata": {},
   "outputs": [
    {
     "data": {
      "text/plain": [
       "array([[293.  ,   1.  ,   3.8 , ...,   0.  ,  62.  ,   0.  ],\n",
       "       [  1.  ,   2.  ,   2.88, ...,   0.  ,  60.  ,   0.  ],\n",
       "       [  8.  ,   2.  ,   3.19, ...,   0.  ,  66.  ,   1.  ],\n",
       "       ...,\n",
       "       [406.  ,   6.  ,   5.36, ...,   0.  ,  62.  ,   0.  ],\n",
       "       [ 25.  ,   8.  ,   4.32, ...,   0.  ,  58.  ,   1.  ],\n",
       "       [447.  ,   8.  ,   5.2 , ...,   0.  ,  49.  ,   0.  ]])"
      ]
     },
     "execution_count": 3,
     "metadata": {},
     "output_type": "execute_result"
    }
   ],
   "source": [
    "# 준비된 수술 환자 데이터를 불러들임\n",
    "Data_set = np.loadtxt(\"dataset/ThoraricSurgery.csv\", delimiter=\",\")\n",
    "Data_set"
   ]
  },
  {
   "cell_type": "code",
   "execution_count": 6,
   "metadata": {},
   "outputs": [],
   "source": [
    "# 환자의 기록과 수술 결과를 X와 Y로 구분하여 저장\n",
    "x_data = np.array(Data_set[:, 0:17], dtype=np.float64)\n",
    "y_data = np.array(Data_set[:, 17], dtype=np.float64).reshape(470,1)"
   ]
  },
  {
   "cell_type": "code",
   "execution_count": 7,
   "metadata": {},
   "outputs": [
    {
     "name": "stdout",
     "output_type": "stream",
     "text": [
      "(470, 17) (470, 1)\n"
     ]
    }
   ],
   "source": [
    "print(x_data.shape, y_data.shape)"
   ]
  },
  {
   "cell_type": "code",
   "execution_count": 8,
   "metadata": {},
   "outputs": [],
   "source": [
    "# 입력 값을 플레이스 홀더에 저장\n",
    "X = tf.placeholder(tf.float64, shape=[None, 17])\n",
    "Y = tf.placeholder(tf.float64, shape=[None, 1])"
   ]
  },
  {
   "cell_type": "code",
   "execution_count": 9,
   "metadata": {},
   "outputs": [],
   "source": [
    "# Layer 1의 웨이트 W와 바이어스 b의 값을 임의로 정함 \n",
    "W1 = tf.Variable(tf.random_normal([17,30], dtype=tf.float64)) \n",
    "b1 = tf.Variable(tf.random_normal([30], dtype=tf.float64))\n",
    "L1 = tf.nn.relu(tf.add(tf.matmul(X, W1), b1))"
   ]
  },
  {
   "cell_type": "markdown",
   "metadata": {},
   "source": [
    "### 아래와 같이 하면 cost 값이 nan 이 됨"
   ]
  },
  {
   "cell_type": "code",
   "execution_count": 10,
   "metadata": {},
   "outputs": [],
   "source": [
    "# Layer 2\n",
    "W2 = tf.Variable(tf.random_normal([30,1], dtype=tf.float64)) \n",
    "b2 = tf.Variable(tf.random_normal([1], dtype=tf.float64))\n",
    "hypo = tf.sigmoid(tf.add(tf.matmul(L1, W2), b2))"
   ]
  },
  {
   "cell_type": "code",
   "execution_count": 11,
   "metadata": {},
   "outputs": [],
   "source": [
    "# Binary Cross Entropy\n",
    "learning_rate = 0.1\n",
    "cost = tf.reduce_mean(-Y * tf.log(hypo) - (1.-Y) * tf.log(1.-hypo))"
   ]
  },
  {
   "cell_type": "code",
   "execution_count": 12,
   "metadata": {},
   "outputs": [],
   "source": [
    "predicted = tf.cast(hypo > 0.5, dtype=tf.float64)\n",
    "accuracy = tf.reduce_sum(tf.cast(tf.equal(predicted, Y), dtype=tf.float64))"
   ]
  },
  {
   "cell_type": "code",
   "execution_count": 13,
   "metadata": {},
   "outputs": [],
   "source": [
    "train = tf.train.AdamOptimizer(learning_rate).minimize(cost)"
   ]
  },
  {
   "cell_type": "code",
   "execution_count": 14,
   "metadata": {},
   "outputs": [
    {
     "name": "stdout",
     "output_type": "stream",
     "text": [
      "step=1, cost_val=nan, accuracy: 73.0000\n",
      "step=2, cost_val=nan, accuracy: 400.0000\n",
      "step=3, cost_val=nan, accuracy: 400.0000\n",
      "step=4, cost_val=nan, accuracy: 400.0000\n",
      "step=5, cost_val=nan, accuracy: 400.0000\n",
      "step=6, cost_val=nan, accuracy: 400.0000\n",
      "step=7, cost_val=nan, accuracy: 400.0000\n",
      "step=8, cost_val=nan, accuracy: 400.0000\n",
      "step=9, cost_val=nan, accuracy: 400.0000\n",
      "step=10, cost_val=nan, accuracy: 400.0000\n"
     ]
    }
   ],
   "source": [
    "# 학습\n",
    "sess = tf.Session()\n",
    "sess.run(tf.global_variables_initializer())\n",
    "\n",
    "for epoch in range(10):\n",
    "    _, cost_val, acc_val = sess.run([train, cost, accuracy], feed_dict = {X: x_data, Y: y_data})\n",
    "    print(\"step=%d, cost_val=%.4f, accuracy: %.4f\" % (epoch + 1, cost_val, acc_val))"
   ]
  },
  {
   "cell_type": "code",
   "execution_count": 21,
   "metadata": {},
   "outputs": [],
   "source": [
    "sess.close()"
   ]
  },
  {
   "cell_type": "markdown",
   "metadata": {},
   "source": [
    "### nan을 피하려면 다음과 같이 하여야 함"
   ]
  },
  {
   "cell_type": "code",
   "execution_count": 22,
   "metadata": {},
   "outputs": [],
   "source": [
    "# Layer 2\n",
    "W2 = tf.Variable(tf.random_normal([30,1], dtype=tf.float64)) \n",
    "b2 = tf.Variable(tf.random_normal([1], dtype=tf.float64))\n",
    "hypo = tf.add(tf.matmul(L1, W2), b2)"
   ]
  },
  {
   "cell_type": "code",
   "execution_count": 27,
   "metadata": {},
   "outputs": [],
   "source": [
    "# Binary Cross Entropy\n",
    "learning_rate = 0.1\n",
    "cost = tf.reduce_mean(tf.nn.sigmoid_cross_entropy_with_logits(logits=hypo, labels=Y))"
   ]
  },
  {
   "cell_type": "code",
   "execution_count": 28,
   "metadata": {},
   "outputs": [],
   "source": [
    "predicted = tf.cast(hypo > 0, dtype=tf.float64)\n",
    "accuracy = tf.reduce_mean(tf.cast(tf.equal(predicted, Y), dtype=tf.float64))"
   ]
  },
  {
   "cell_type": "code",
   "execution_count": 29,
   "metadata": {},
   "outputs": [],
   "source": [
    "train = tf.train.AdamOptimizer(learning_rate).minimize(cost)"
   ]
  },
  {
   "cell_type": "code",
   "execution_count": 33,
   "metadata": {},
   "outputs": [
    {
     "name": "stdout",
     "output_type": "stream",
     "text": [
      "step=1, cost_val=58.2431, accuracy: 0.6277\n",
      "step=2, cost_val=111.5739, accuracy: 0.1511\n",
      "step=3, cost_val=60.9688, accuracy: 0.8511\n",
      "step=4, cost_val=110.1026, accuracy: 0.8511\n",
      "step=5, cost_val=139.2158, accuracy: 0.8511\n",
      "step=6, cost_val=153.6611, accuracy: 0.8511\n",
      "step=7, cost_val=157.1180, accuracy: 0.8511\n",
      "step=8, cost_val=152.2215, accuracy: 0.8511\n",
      "step=9, cost_val=141.0324, accuracy: 0.8511\n",
      "step=10, cost_val=125.1343, accuracy: 0.8511\n",
      "step=11, cost_val=105.7110, accuracy: 0.8511\n",
      "step=12, cost_val=83.6503, accuracy: 0.8511\n",
      "step=13, cost_val=59.6170, accuracy: 0.8511\n",
      "step=14, cost_val=33.9817, accuracy: 0.8511\n",
      "step=15, cost_val=10.3022, accuracy: 0.7660\n",
      "step=16, cost_val=122.4836, accuracy: 0.1574\n",
      "step=17, cost_val=94.0483, accuracy: 0.1660\n",
      "step=18, cost_val=10.6280, accuracy: 0.7574\n",
      "step=19, cost_val=24.9501, accuracy: 0.8298\n",
      "step=20, cost_val=37.2832, accuracy: 0.8511\n"
     ]
    }
   ],
   "source": [
    "# 학습\n",
    "sess = tf.Session()\n",
    "sess.run(tf.global_variables_initializer())\n",
    "\n",
    "for epoch in range(20):\n",
    "    _, cost_val, acc_val = sess.run([train, cost, accuracy], feed_dict = {X: x_data, Y: y_data})\n",
    "    print(\"step=%d, cost_val=%.4f, accuracy: %.4f\" % (epoch + 1, cost_val, acc_val))"
   ]
  },
  {
   "cell_type": "markdown",
   "metadata": {},
   "source": [
    "### 평가"
   ]
  },
  {
   "cell_type": "code",
   "execution_count": 34,
   "metadata": {},
   "outputs": [
    {
     "name": "stdout",
     "output_type": "stream",
     "text": [
      "Accuracy: 0.8511\n"
     ]
    }
   ],
   "source": [
    "acc = sess.run(accuracy, feed_dict = {X: x_data, Y: y_data})\n",
    "print(\"Accuracy: %.4f\" % acc)"
   ]
  },
  {
   "cell_type": "markdown",
   "metadata": {},
   "source": [
    "### 분석"
   ]
  },
  {
   "cell_type": "code",
   "execution_count": 35,
   "metadata": {},
   "outputs": [],
   "source": [
    "W1_, W2_, b1_, b2_ = sess.run([W1, W2, b1, b2])"
   ]
  },
  {
   "cell_type": "code",
   "execution_count": 36,
   "metadata": {},
   "outputs": [],
   "source": [
    "def ReLU(x):\n",
    "    return x * (x > 0)\n",
    "def sigmoid(x):\n",
    "    return 1./(1. + np.e**(-x))"
   ]
  },
  {
   "cell_type": "code",
   "execution_count": 37,
   "metadata": {},
   "outputs": [
    {
     "data": {
      "text/plain": [
       "array([-0.59640411, -1.72213433,  0.50589363, -1.81112216,  0.48397328,\n",
       "        1.58679519, -0.00832799, -1.85492855,  1.25208003, -1.4175388 ,\n",
       "        0.48488214, -1.37162592, -0.1953683 ,  0.32232278,  1.04495816,\n",
       "        0.16088034, -0.83244772,  0.31716335,  0.05333922,  1.89894556,\n",
       "        1.57152997, -0.98126552,  0.50642814, -0.02770568, -0.26298234,\n",
       "       -1.5776204 , -0.30035346, -0.6813579 , -1.18515155, -2.17332714])"
      ]
     },
     "execution_count": 37,
     "metadata": {},
     "output_type": "execute_result"
    }
   ],
   "source": [
    "b1_"
   ]
  },
  {
   "cell_type": "code",
   "execution_count": 38,
   "metadata": {},
   "outputs": [
    {
     "data": {
      "text/plain": [
       "array([[321.38458104,  56.07317988, 186.52442246,  -0.        ,\n",
       "         50.3599364 , 585.23276281, 148.24917924,  -0.        ,\n",
       "         -0.        ,  -0.        ,  -0.        ,  -0.        ,\n",
       "         48.08386349,  49.72062279,  -0.        ,  -0.        ,\n",
       "        698.90993225, 662.66309623,  -0.        ,  -0.        ,\n",
       "         -0.        , 106.37784347,  -0.        ,  -0.        ,\n",
       "         -0.        ,  49.00490234,   5.78512114,  -0.        ,\n",
       "         -0.        ,  -0.        ]])"
      ]
     },
     "execution_count": 38,
     "metadata": {},
     "output_type": "execute_result"
    }
   ],
   "source": [
    "L1_ = ReLU(np.matmul(x_data[0,:].reshape(1,17), W1_) + b1_)\n",
    "L1_"
   ]
  },
  {
   "cell_type": "code",
   "execution_count": 39,
   "metadata": {},
   "outputs": [
    {
     "name": "stdout",
     "output_type": "stream",
     "text": [
      "-416.6203530057555 1.1589898724811117e-181\n"
     ]
    }
   ],
   "source": [
    "L2_ = np.matmul(L1_, W2_) + b2_\n",
    "H = sigmoid(L2_)\n",
    "print(L2_[0].item(), H[0].item())"
   ]
  },
  {
   "cell_type": "code",
   "execution_count": 40,
   "metadata": {},
   "outputs": [
    {
     "data": {
      "text/plain": [
       "0.0"
      ]
     },
     "execution_count": 40,
     "metadata": {},
     "output_type": "execute_result"
    }
   ],
   "source": [
    "y_data[0].item()"
   ]
  },
  {
   "cell_type": "code",
   "execution_count": null,
   "metadata": {},
   "outputs": [],
   "source": []
  }
 ],
 "metadata": {
  "kernelspec": {
   "display_name": "Python 3",
   "language": "python",
   "name": "python3"
  },
  "language_info": {
   "codemirror_mode": {
    "name": "ipython",
    "version": 3
   },
   "file_extension": ".py",
   "mimetype": "text/x-python",
   "name": "python",
   "nbconvert_exporter": "python",
   "pygments_lexer": "ipython3",
   "version": "3.7.3"
  }
 },
 "nbformat": 4,
 "nbformat_minor": 2
}
