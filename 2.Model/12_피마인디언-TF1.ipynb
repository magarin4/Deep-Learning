{
 "cells": [
  {
   "cell_type": "markdown",
   "metadata": {},
   "source": [
    "## 피마인디언 당뇨병 사례"
   ]
  },
  {
   "cell_type": "code",
   "execution_count": 1,
   "metadata": {},
   "outputs": [
    {
     "name": "stdout",
     "output_type": "stream",
     "text": [
      "WARNING:tensorflow:From C:\\Users\\EZEN\\Anaconda3\\lib\\site-packages\\tensorflow_core\\python\\compat\\v2_compat.py:65: disable_resource_variables (from tensorflow.python.ops.variable_scope) is deprecated and will be removed in a future version.\n",
      "Instructions for updating:\n",
      "non-resource variables are not supported in the long term\n"
     ]
    }
   ],
   "source": [
    "import numpy as np\n",
    "import tensorflow.compat.v1 as tf\n",
    "tf.disable_v2_behavior()"
   ]
  },
  {
   "cell_type": "code",
   "execution_count": 2,
   "metadata": {},
   "outputs": [],
   "source": [
    "# seed 값 생성\n",
    "seed = 0\n",
    "np.random.seed(seed)\n",
    "tf.set_random_seed(seed)"
   ]
  },
  {
   "cell_type": "code",
   "execution_count": 5,
   "metadata": {},
   "outputs": [],
   "source": [
    "# 데이터 로드\n",
    "dataset = np.loadtxt(\"dataset/pima-indians-diabetes.csv\", delimiter=\",\")\n",
    "x_data = np.array(dataset[:, 0:8], dtype=np.float64)\n",
    "y_data = np.array(dataset[:, 8], dtype=np.float64).reshape(768, 1)"
   ]
  },
  {
   "cell_type": "code",
   "execution_count": 6,
   "metadata": {},
   "outputs": [
    {
     "name": "stdout",
     "output_type": "stream",
     "text": [
      "(768, 8) (768, 1)\n"
     ]
    }
   ],
   "source": [
    "print(x_data.shape, y_data.shape)"
   ]
  },
  {
   "cell_type": "code",
   "execution_count": 21,
   "metadata": {},
   "outputs": [],
   "source": [
    "# 입력 값을 플레이스 홀더에 저장\n",
    "X = tf.placeholder(tf.float64, shape=[None, 8])\n",
    "Y = tf.placeholder(tf.float64, shape=[None, 1])"
   ]
  },
  {
   "cell_type": "code",
   "execution_count": 22,
   "metadata": {},
   "outputs": [],
   "source": [
    "# Layer 1\n",
    "W1 = tf.Variable(tf.random_normal([8,12], dtype=tf.float64)) \n",
    "b1 = tf.Variable(tf.random_normal([12], dtype=tf.float64))\n",
    "L1 = tf.nn.relu(tf.add(tf.matmul(X, W1), b1))"
   ]
  },
  {
   "cell_type": "code",
   "execution_count": 23,
   "metadata": {},
   "outputs": [],
   "source": [
    "# Layer 2\n",
    "W2 = tf.Variable(tf.random_normal([12,8], dtype=tf.float64)) \n",
    "b2 = tf.Variable(tf.random_normal([8], dtype=tf.float64))\n",
    "L2 = tf.nn.relu(tf.add(tf.matmul(L1, W2), b2))"
   ]
  },
  {
   "cell_type": "markdown",
   "metadata": {},
   "source": [
    "### 아래와 같이 하면 cost 값이 nan 이 됨"
   ]
  },
  {
   "cell_type": "code",
   "execution_count": 10,
   "metadata": {},
   "outputs": [],
   "source": [
    "# Layer 3\n",
    "W3 = tf.Variable(tf.random_normal([8,1], dtype=tf.float64)) \n",
    "b3 = tf.Variable(tf.random_normal([1], dtype=tf.float64))\n",
    "hypo = tf.sigmoid(tf.add(tf.matmul(L2, W3), b3))"
   ]
  },
  {
   "cell_type": "code",
   "execution_count": 11,
   "metadata": {},
   "outputs": [],
   "source": [
    "# Binary cross entropy\n",
    "cost = tf.reduce_sum(-Y * tf.log(hypo) - (1.-Y) * tf.log(1.-hypo))"
   ]
  },
  {
   "cell_type": "code",
   "execution_count": 12,
   "metadata": {},
   "outputs": [],
   "source": [
    "predicted = tf.cast(hypo > 0.5, dtype=tf.float64)\n",
    "accuracy = tf.reduce_mean(tf.cast(tf.equal(predicted, Y), dtype=tf.float64))"
   ]
  },
  {
   "cell_type": "code",
   "execution_count": 13,
   "metadata": {},
   "outputs": [],
   "source": [
    "learning_rate = 0.1\n",
    "train = tf.train.AdamOptimizer(learning_rate).minimize(cost)"
   ]
  },
  {
   "cell_type": "code",
   "execution_count": 14,
   "metadata": {},
   "outputs": [
    {
     "name": "stdout",
     "output_type": "stream",
     "text": [
      "step=1, cost_val=nan, accuracy: 0.3490\n",
      "step=21, cost_val=nan, accuracy: 0.6510\n",
      "step=41, cost_val=nan, accuracy: 0.6510\n",
      "step=61, cost_val=nan, accuracy: 0.6510\n",
      "step=81, cost_val=nan, accuracy: 0.6510\n",
      "step=101, cost_val=nan, accuracy: 0.6510\n",
      "step=121, cost_val=nan, accuracy: 0.6510\n",
      "step=141, cost_val=nan, accuracy: 0.6510\n",
      "step=161, cost_val=nan, accuracy: 0.6510\n",
      "step=181, cost_val=nan, accuracy: 0.6510\n",
      "step=201, cost_val=nan, accuracy: 0.6510\n",
      "step=221, cost_val=nan, accuracy: 0.6510\n",
      "step=241, cost_val=nan, accuracy: 0.6510\n",
      "step=261, cost_val=nan, accuracy: 0.6510\n",
      "step=281, cost_val=nan, accuracy: 0.6510\n",
      "step=301, cost_val=nan, accuracy: 0.6510\n"
     ]
    }
   ],
   "source": [
    "# 학습\n",
    "sess = tf.Session()\n",
    "sess.run(tf.global_variables_initializer())\n",
    "\n",
    "for epoch in range(301):\n",
    "    _, cost_val, acc_val = sess.run([train, cost, accuracy], feed_dict = {X: x_data, Y: y_data})\n",
    "    if epoch % 20 == 0:\n",
    "        print(\"step=%d, cost_val=%.4f, accuracy: %.4f\" % (epoch + 1, cost_val, acc_val))"
   ]
  },
  {
   "cell_type": "code",
   "execution_count": 15,
   "metadata": {},
   "outputs": [
    {
     "name": "stdout",
     "output_type": "stream",
     "text": [
      "Accuracy: 0.6510\n"
     ]
    }
   ],
   "source": [
    "# 평가\n",
    "acc = sess.run(accuracy, feed_dict = {X: x_data, Y: y_data})\n",
    "print(\"Accuracy: %.4f\" % acc)"
   ]
  },
  {
   "cell_type": "code",
   "execution_count": 20,
   "metadata": {},
   "outputs": [],
   "source": [
    "sess.close()"
   ]
  },
  {
   "cell_type": "markdown",
   "metadata": {},
   "source": [
    "### nan을 피하려면 다음과 같이 하여야 함"
   ]
  },
  {
   "cell_type": "code",
   "execution_count": 24,
   "metadata": {},
   "outputs": [],
   "source": [
    "# Layer 3\n",
    "W3 = tf.Variable(tf.random_normal([8,1], dtype=tf.float64)) \n",
    "b3 = tf.Variable(tf.random_normal([1], dtype=tf.float64))\n",
    "hypo = tf.add(tf.matmul(L2, W3), b3)"
   ]
  },
  {
   "cell_type": "code",
   "execution_count": 34,
   "metadata": {},
   "outputs": [],
   "source": [
    "# Binary Cross Entropy\n",
    "cost = tf.reduce_mean(tf.nn.sigmoid_cross_entropy_with_logits(logits=hypo, labels=Y))"
   ]
  },
  {
   "cell_type": "code",
   "execution_count": 35,
   "metadata": {},
   "outputs": [],
   "source": [
    "predicted = tf.cast(hypo > 0, dtype=tf.float64)\n",
    "accuracy = tf.reduce_mean(tf.cast(tf.equal(predicted, Y), dtype=tf.float64))"
   ]
  },
  {
   "cell_type": "code",
   "execution_count": 36,
   "metadata": {},
   "outputs": [],
   "source": [
    "learning_rate = 0.1\n",
    "train = tf.train.AdamOptimizer(learning_rate).minimize(cost)"
   ]
  },
  {
   "cell_type": "code",
   "execution_count": 37,
   "metadata": {},
   "outputs": [
    {
     "name": "stdout",
     "output_type": "stream",
     "text": [
      "step=1, cost_val=332.6043, accuracy: 0.6406\n",
      "step=21, cost_val=0.8722, accuracy: 0.6510\n",
      "step=41, cost_val=0.6523, accuracy: 0.6510\n",
      "step=61, cost_val=0.6475, accuracy: 0.6510\n",
      "step=81, cost_val=0.6469, accuracy: 0.6510\n",
      "step=101, cost_val=0.6468, accuracy: 0.6510\n",
      "step=121, cost_val=0.6468, accuracy: 0.6510\n",
      "step=141, cost_val=0.6468, accuracy: 0.6510\n",
      "step=161, cost_val=0.6468, accuracy: 0.6510\n",
      "step=181, cost_val=0.6468, accuracy: 0.6510\n",
      "step=201, cost_val=0.6468, accuracy: 0.6510\n",
      "step=221, cost_val=0.6468, accuracy: 0.6510\n",
      "step=241, cost_val=0.6468, accuracy: 0.6510\n",
      "step=261, cost_val=0.6468, accuracy: 0.6510\n",
      "step=281, cost_val=0.6468, accuracy: 0.6510\n",
      "step=301, cost_val=0.6468, accuracy: 0.6510\n"
     ]
    }
   ],
   "source": [
    "# 학습\n",
    "sess = tf.Session()\n",
    "sess.run(tf.global_variables_initializer())\n",
    "\n",
    "for epoch in range(301):\n",
    "    _, cost_val, acc_val = sess.run([train, cost, accuracy], feed_dict = {X: x_data, Y: y_data})\n",
    "    if epoch % 20 == 0:\n",
    "        print(\"step=%d, cost_val=%.4f, accuracy: %.4f\" % (epoch + 1, cost_val, acc_val))"
   ]
  },
  {
   "cell_type": "code",
   "execution_count": 29,
   "metadata": {},
   "outputs": [
    {
     "name": "stdout",
     "output_type": "stream",
     "text": [
      "Accuracy: 0.6510\n"
     ]
    }
   ],
   "source": [
    "# 평가\n",
    "acc = sess.run(accuracy, feed_dict = {X: x_data, Y: y_data})\n",
    "print(\"Accuracy: %.4f\" % acc)"
   ]
  },
  {
   "cell_type": "code",
   "execution_count": 38,
   "metadata": {},
   "outputs": [],
   "source": [
    "sess.close()"
   ]
  }
 ],
 "metadata": {
  "kernelspec": {
   "display_name": "Python 3",
   "language": "python",
   "name": "python3"
  },
  "language_info": {
   "codemirror_mode": {
    "name": "ipython",
    "version": 3
   },
   "file_extension": ".py",
   "mimetype": "text/x-python",
   "name": "python",
   "nbconvert_exporter": "python",
   "pygments_lexer": "ipython3",
   "version": "3.7.3"
  }
 },
 "nbformat": 4,
 "nbformat_minor": 2
}
