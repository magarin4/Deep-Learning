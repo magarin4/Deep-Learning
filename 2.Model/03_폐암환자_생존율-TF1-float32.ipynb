{
 "cells": [
  {
   "cell_type": "markdown",
   "metadata": {},
   "source": [
    "## 폐암 수술 환자의 생존율 데이터 분석"
   ]
  },
  {
   "cell_type": "code",
   "execution_count": 1,
   "metadata": {},
   "outputs": [
    {
     "name": "stdout",
     "output_type": "stream",
     "text": [
      "WARNING:tensorflow:From C:\\Users\\EZEN\\Anaconda3\\lib\\site-packages\\tensorflow_core\\python\\compat\\v2_compat.py:65: disable_resource_variables (from tensorflow.python.ops.variable_scope) is deprecated and will be removed in a future version.\n",
      "Instructions for updating:\n",
      "non-resource variables are not supported in the long term\n"
     ]
    }
   ],
   "source": [
    "# 필요한 라이브러리\n",
    "import numpy as np\n",
    "import tensorflow.compat.v1 as tf\n",
    "tf.disable_v2_behavior()"
   ]
  },
  {
   "cell_type": "code",
   "execution_count": 2,
   "metadata": {},
   "outputs": [],
   "source": [
    "# 실행할 때마다 같은 결과를 출력하기 위한 seed 값 설정\n",
    "seed = 0\n",
    "np.random.seed(seed)\n",
    "tf.set_random_seed(seed)"
   ]
  },
  {
   "cell_type": "code",
   "execution_count": 3,
   "metadata": {},
   "outputs": [
    {
     "data": {
      "text/plain": [
       "array([[293.  ,   1.  ,   3.8 , ...,   0.  ,  62.  ,   0.  ],\n",
       "       [  1.  ,   2.  ,   2.88, ...,   0.  ,  60.  ,   0.  ],\n",
       "       [  8.  ,   2.  ,   3.19, ...,   0.  ,  66.  ,   1.  ],\n",
       "       ...,\n",
       "       [406.  ,   6.  ,   5.36, ...,   0.  ,  62.  ,   0.  ],\n",
       "       [ 25.  ,   8.  ,   4.32, ...,   0.  ,  58.  ,   1.  ],\n",
       "       [447.  ,   8.  ,   5.2 , ...,   0.  ,  49.  ,   0.  ]])"
      ]
     },
     "execution_count": 3,
     "metadata": {},
     "output_type": "execute_result"
    }
   ],
   "source": [
    "# 준비된 수술 환자 데이터를 불러들임\n",
    "Data_set = np.loadtxt(\"dataset/ThoraricSurgery.csv\", delimiter=\",\")\n",
    "Data_set"
   ]
  },
  {
   "cell_type": "code",
   "execution_count": 4,
   "metadata": {},
   "outputs": [],
   "source": [
    "# 환자의 기록과 수술 결과를 X와 Y로 구분하여 저장\n",
    "x_data = np.array(Data_set[:, 0:17], dtype=np.float32)\n",
    "y_data = np.array(Data_set[:, 17], dtype=np.float32).reshape(470,1)"
   ]
  },
  {
   "cell_type": "code",
   "execution_count": 5,
   "metadata": {},
   "outputs": [
    {
     "name": "stdout",
     "output_type": "stream",
     "text": [
      "(470, 17) (470, 1)\n"
     ]
    }
   ],
   "source": [
    "print(x_data.shape, y_data.shape)"
   ]
  },
  {
   "cell_type": "code",
   "execution_count": 6,
   "metadata": {},
   "outputs": [],
   "source": [
    "# 입력 값을 플레이스 홀더에 저장\n",
    "X = tf.placeholder(tf.float32, shape=[None, 17])\n",
    "Y = tf.placeholder(tf.float32, shape=[None, 1])"
   ]
  },
  {
   "cell_type": "code",
   "execution_count": 7,
   "metadata": {},
   "outputs": [],
   "source": [
    "# Layer 1의 웨이트 W와 바이어스 b의 값을 임의로 정함 \n",
    "W1 = tf.Variable(tf.random_normal([17,30], dtype=tf.float32)) \n",
    "b1 = tf.Variable(tf.random_normal([30], dtype=tf.float32))\n",
    "L1 = tf.nn.relu(tf.add(tf.matmul(X, W1), b1))"
   ]
  },
  {
   "cell_type": "markdown",
   "metadata": {},
   "source": [
    "### 아래와 같이 하면 cost 값이 nan 이 됨"
   ]
  },
  {
   "cell_type": "code",
   "execution_count": 8,
   "metadata": {},
   "outputs": [],
   "source": [
    "# Layer 2\n",
    "W2 = tf.Variable(tf.random_normal([30,1], dtype=tf.float32)) \n",
    "b2 = tf.Variable(tf.random_normal([1], dtype=tf.float32))\n",
    "hypo = tf.sigmoid(tf.add(tf.matmul(L1, W2), b2))"
   ]
  },
  {
   "cell_type": "code",
   "execution_count": 9,
   "metadata": {},
   "outputs": [],
   "source": [
    "# Binary Cross Entropy\n",
    "learning_rate = 0.1\n",
    "cost = tf.reduce_mean(-Y * tf.log(hypo) - (1.-Y) * tf.log(1.-hypo))"
   ]
  },
  {
   "cell_type": "code",
   "execution_count": 12,
   "metadata": {},
   "outputs": [],
   "source": [
    "predicted = tf.cast(hypo > 0.5, dtype=tf.float32)\n",
    "accuracy = tf.reduce_sum(tf.cast(tf.equal(predicted, Y), dtype=tf.float32))"
   ]
  },
  {
   "cell_type": "code",
   "execution_count": 13,
   "metadata": {},
   "outputs": [],
   "source": [
    "train = tf.train.AdamOptimizer(learning_rate).minimize(cost)"
   ]
  },
  {
   "cell_type": "code",
   "execution_count": 14,
   "metadata": {},
   "outputs": [
    {
     "name": "stdout",
     "output_type": "stream",
     "text": [
      "step=1, cost_val=nan, accuracy: 72.0000\n",
      "step=2, cost_val=nan, accuracy: 400.0000\n",
      "step=3, cost_val=nan, accuracy: 400.0000\n",
      "step=4, cost_val=nan, accuracy: 400.0000\n",
      "step=5, cost_val=nan, accuracy: 400.0000\n",
      "step=6, cost_val=nan, accuracy: 400.0000\n",
      "step=7, cost_val=nan, accuracy: 400.0000\n",
      "step=8, cost_val=nan, accuracy: 400.0000\n",
      "step=9, cost_val=nan, accuracy: 400.0000\n",
      "step=10, cost_val=nan, accuracy: 400.0000\n"
     ]
    }
   ],
   "source": [
    "# 학습\n",
    "sess = tf.Session()\n",
    "sess.run(tf.global_variables_initializer())\n",
    "\n",
    "for epoch in range(10):\n",
    "    _, cost_val, acc_val = sess.run([train, cost, accuracy], feed_dict = {X: x_data, Y: y_data})\n",
    "    print(\"step=%d, cost_val=%.4f, accuracy: %.4f\" % (epoch + 1, cost_val, acc_val))"
   ]
  },
  {
   "cell_type": "code",
   "execution_count": 15,
   "metadata": {},
   "outputs": [],
   "source": [
    "sess.close()"
   ]
  },
  {
   "cell_type": "markdown",
   "metadata": {},
   "source": [
    "### nan을 피하려면 다음과 같이 하여야 함"
   ]
  },
  {
   "cell_type": "code",
   "execution_count": 16,
   "metadata": {},
   "outputs": [],
   "source": [
    "# Layer 2\n",
    "W2 = tf.Variable(tf.random_normal([30,1], dtype=tf.float32)) \n",
    "b2 = tf.Variable(tf.random_normal([1], dtype=tf.float32))\n",
    "hypo = tf.add(tf.matmul(L1, W2), b2)"
   ]
  },
  {
   "cell_type": "code",
   "execution_count": 19,
   "metadata": {},
   "outputs": [],
   "source": [
    "# Binary Cross Entropy\n",
    "learning_rate = 0.1\n",
    "cost = tf.reduce_mean(tf.nn.sigmoid_cross_entropy_with_logits(logits=hypo, labels=Y))"
   ]
  },
  {
   "cell_type": "code",
   "execution_count": 20,
   "metadata": {},
   "outputs": [],
   "source": [
    "predicted = tf.cast(hypo > 0, dtype=tf.float32)\n",
    "accuracy = tf.reduce_mean(tf.cast(tf.equal(predicted, Y), dtype=tf.float32))"
   ]
  },
  {
   "cell_type": "code",
   "execution_count": 21,
   "metadata": {},
   "outputs": [],
   "source": [
    "train = tf.train.AdamOptimizer(learning_rate).minimize(cost)"
   ]
  },
  {
   "cell_type": "code",
   "execution_count": 22,
   "metadata": {},
   "outputs": [
    {
     "name": "stdout",
     "output_type": "stream",
     "text": [
      "step=1, cost_val=108.6388, accuracy: 0.8511\n",
      "step=2, cost_val=24.9926, accuracy: 0.7340\n",
      "step=3, cost_val=454.2517, accuracy: 0.1489\n",
      "step=4, cost_val=135.2872, accuracy: 0.1489\n",
      "step=5, cost_val=48.6357, accuracy: 0.8511\n",
      "step=6, cost_val=96.5640, accuracy: 0.8511\n",
      "step=7, cost_val=127.7641, accuracy: 0.8511\n",
      "step=8, cost_val=147.4855, accuracy: 0.8511\n",
      "step=9, cost_val=158.5266, accuracy: 0.8511\n",
      "step=10, cost_val=162.8943, accuracy: 0.8511\n",
      "step=11, cost_val=162.1107, accuracy: 0.8511\n",
      "step=12, cost_val=157.4555, accuracy: 0.8511\n",
      "step=13, cost_val=149.8050, accuracy: 0.8511\n",
      "step=14, cost_val=139.9702, accuracy: 0.8511\n",
      "step=15, cost_val=129.0041, accuracy: 0.8511\n",
      "step=16, cost_val=117.3709, accuracy: 0.8511\n",
      "step=17, cost_val=105.2772, accuracy: 0.8511\n",
      "step=18, cost_val=92.8469, accuracy: 0.8511\n",
      "step=19, cost_val=80.1646, accuracy: 0.8511\n",
      "step=20, cost_val=67.3548, accuracy: 0.8511\n"
     ]
    }
   ],
   "source": [
    "# 학습\n",
    "sess = tf.Session()\n",
    "sess.run(tf.global_variables_initializer())\n",
    "\n",
    "for epoch in range(20):\n",
    "    _, cost_val, acc_val = sess.run([train, cost, accuracy], feed_dict = {X: x_data, Y: y_data})\n",
    "    print(\"step=%d, cost_val=%.4f, accuracy: %.4f\" % (epoch + 1, cost_val, acc_val))"
   ]
  },
  {
   "cell_type": "markdown",
   "metadata": {},
   "source": [
    "### 평가"
   ]
  },
  {
   "cell_type": "code",
   "execution_count": 23,
   "metadata": {},
   "outputs": [
    {
     "name": "stdout",
     "output_type": "stream",
     "text": [
      "Accuracy: 0.8511\n"
     ]
    }
   ],
   "source": [
    "acc = sess.run(accuracy, feed_dict = {X: x_data, Y: y_data})\n",
    "print(\"Accuracy: %.4f\" % acc)"
   ]
  },
  {
   "cell_type": "markdown",
   "metadata": {},
   "source": [
    "### 분석"
   ]
  },
  {
   "cell_type": "code",
   "execution_count": 24,
   "metadata": {},
   "outputs": [],
   "source": [
    "W1_, W2_, b1_, b2_ = sess.run([W1, W2, b1, b2])"
   ]
  },
  {
   "cell_type": "code",
   "execution_count": 25,
   "metadata": {},
   "outputs": [],
   "source": [
    "def ReLU(x):\n",
    "    return x * (x > 0)\n",
    "def sigmoid(x):\n",
    "    return 1./(1. + np.e**(-x))"
   ]
  },
  {
   "cell_type": "code",
   "execution_count": 26,
   "metadata": {},
   "outputs": [
    {
     "data": {
      "text/plain": [
       "array([-1.6488755 , -1.6936338 ,  0.22648185,  2.2550836 ,  1.1665237 ,\n",
       "        1.6196547 ,  1.0274365 , -0.49741533, -0.18586   , -1.4479506 ,\n",
       "        1.6215065 ,  0.864628  ,  1.5465599 ,  0.545661  , -0.5757081 ,\n",
       "        0.08227626, -0.58398473,  0.21234226, -0.01111865, -0.04562002,\n",
       "       -0.68967175, -1.4038917 , -0.5711855 ,  0.3626712 , -1.8472904 ,\n",
       "       -0.571195  ,  1.4901446 , -3.0709605 ,  1.1785848 ,  0.8443789 ],\n",
       "      dtype=float32)"
      ]
     },
     "execution_count": 26,
     "metadata": {},
     "output_type": "execute_result"
    }
   ],
   "source": [
    "b1_"
   ]
  },
  {
   "cell_type": "code",
   "execution_count": 27,
   "metadata": {},
   "outputs": [
    {
     "data": {
      "text/plain": [
       "array([[ -0.     ,  -0.     ,  -0.     ,  -0.     ,  -0.     ,  -0.     ,\n",
       "         48.93174,  -0.     ,  -0.     ,  -0.     , 270.80792, 144.8055 ,\n",
       "         -0.     ,  -0.     ,  -0.     ,  -0.     ,  -0.     ,  -0.     ,\n",
       "         -0.     ,  -0.     ,  -0.     ,  -0.     ,  -0.     , 529.7488 ,\n",
       "         -0.     ,  -0.     ,  -0.     ,  -0.     , 262.80197, 262.55408]],\n",
       "      dtype=float32)"
      ]
     },
     "execution_count": 27,
     "metadata": {},
     "output_type": "execute_result"
    }
   ],
   "source": [
    "L1_ = ReLU(np.matmul(x_data[0,:].reshape(1,17), W1_) + b1_)\n",
    "L1_"
   ]
  },
  {
   "cell_type": "code",
   "execution_count": 28,
   "metadata": {},
   "outputs": [
    {
     "name": "stdout",
     "output_type": "stream",
     "text": [
      "-489.7164306640625 0.0\n"
     ]
    },
    {
     "name": "stderr",
     "output_type": "stream",
     "text": [
      "C:\\Users\\EZEN\\Anaconda3\\lib\\site-packages\\ipykernel_launcher.py:4: RuntimeWarning: overflow encountered in power\n",
      "  after removing the cwd from sys.path.\n"
     ]
    }
   ],
   "source": [
    "L2_ = np.matmul(L1_, W2_) + b2_\n",
    "H = sigmoid(L2_)\n",
    "print(L2_[0].item(), H[0].item())"
   ]
  },
  {
   "cell_type": "code",
   "execution_count": 29,
   "metadata": {},
   "outputs": [
    {
     "data": {
      "text/plain": [
       "0.0"
      ]
     },
     "execution_count": 29,
     "metadata": {},
     "output_type": "execute_result"
    }
   ],
   "source": [
    "y_data[0].item()"
   ]
  },
  {
   "cell_type": "code",
   "execution_count": null,
   "metadata": {},
   "outputs": [],
   "source": []
  }
 ],
 "metadata": {
  "kernelspec": {
   "display_name": "Python 3",
   "language": "python",
   "name": "python3"
  },
  "language_info": {
   "codemirror_mode": {
    "name": "ipython",
    "version": 3
   },
   "file_extension": ".py",
   "mimetype": "text/x-python",
   "name": "python",
   "nbconvert_exporter": "python",
   "pygments_lexer": "ipython3",
   "version": "3.7.3"
  }
 },
 "nbformat": 4,
 "nbformat_minor": 2
}
