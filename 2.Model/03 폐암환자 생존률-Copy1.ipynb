{
 "cells": [
  {
   "cell_type": "markdown",
   "metadata": {},
   "source": [
    " # 폐암 수술 환자의 생존율 데이터 분석"
   ]
  },
  {
   "cell_type": "code",
   "execution_count": 1,
   "metadata": {},
   "outputs": [
    {
     "data": {
      "text/plain": [
       "'2.1.0'"
      ]
     },
     "execution_count": 1,
     "metadata": {},
     "output_type": "execute_result"
    }
   ],
   "source": [
    "# 필요한 라이브러리\n",
    "import numpy as np\n",
    "import tensorflow as tf\n",
    "tf.__version__"
   ]
  },
  {
   "cell_type": "code",
   "execution_count": 2,
   "metadata": {},
   "outputs": [],
   "source": [
    "# 실행할 때마다 같은 결과를 출력하기 위한 seed 값 설정\n",
    "seed = 2020\n",
    "np.random.seed(seed)\n",
    "tf.random.set_seed(seed)"
   ]
  },
  {
   "cell_type": "code",
   "execution_count": 3,
   "metadata": {},
   "outputs": [
    {
     "data": {
      "text/plain": [
       "array([[293.  ,   1.  ,   3.8 ,   2.8 ,   0.  ,   0.  ,   0.  ,   0.  ,\n",
       "          0.  ,   0.  ,  12.  ,   0.  ,   0.  ,   0.  ,   1.  ,   0.  ,\n",
       "         62.  ,   0.  ],\n",
       "       [  1.  ,   2.  ,   2.88,   2.16,   1.  ,   0.  ,   0.  ,   0.  ,\n",
       "          1.  ,   1.  ,  14.  ,   0.  ,   0.  ,   0.  ,   1.  ,   0.  ,\n",
       "         60.  ,   0.  ],\n",
       "       [  8.  ,   2.  ,   3.19,   2.5 ,   1.  ,   0.  ,   0.  ,   0.  ,\n",
       "          1.  ,   0.  ,  11.  ,   0.  ,   0.  ,   1.  ,   1.  ,   0.  ,\n",
       "         66.  ,   1.  ]])"
      ]
     },
     "execution_count": 3,
     "metadata": {},
     "output_type": "execute_result"
    }
   ],
   "source": [
    "#준비된 수술 환자 데이터를 불러들임\n",
    "Data_set = np.loadtxt(\"../dataset/ThoraricSurgery.csv\", delimiter=\",\")\n",
    "Data_set[:3,:]"
   ]
  },
  {
   "cell_type": "code",
   "execution_count": 4,
   "metadata": {},
   "outputs": [
    {
     "data": {
      "text/plain": [
       "((470, 17), (470,))"
      ]
     },
     "execution_count": 4,
     "metadata": {},
     "output_type": "execute_result"
    }
   ],
   "source": [
    "# 환자의 기록과 수술 결과를 X와 Y로 구분하여 저장\n",
    "X = Data_set[:,0:17]\n",
    "Y = Data_set[:,17]\n",
    "X.shape, Y.shape"
   ]
  },
  {
   "cell_type": "code",
   "execution_count": 14,
   "metadata": {},
   "outputs": [],
   "source": [
    "#80% Train setm 20% Test set으로 분리\n",
    "from sklearn.model_selection import train_test_split\n",
    "x_train, x_test, y_train, y_test = \\\n",
    "    train_test_split(X,Y, test_size=0.2, random_state=seed)"
   ]
  },
  {
   "cell_type": "code",
   "execution_count": 15,
   "metadata": {},
   "outputs": [],
   "source": [
    "from tensorflow.keras.models import Sequential\n",
    "from tensorflow.keras.layers import Dense"
   ]
  },
  {
   "cell_type": "code",
   "execution_count": 16,
   "metadata": {},
   "outputs": [
    {
     "name": "stdout",
     "output_type": "stream",
     "text": [
      "Model: \"sequential_1\"\n",
      "_________________________________________________________________\n",
      "Layer (type)                 Output Shape              Param #   \n",
      "=================================================================\n",
      "dense_2 (Dense)              (None, 30)                540       \n",
      "_________________________________________________________________\n",
      "dense_3 (Dense)              (None, 1)                 31        \n",
      "=================================================================\n",
      "Total params: 571\n",
      "Trainable params: 571\n",
      "Non-trainable params: 0\n",
      "_________________________________________________________________\n"
     ]
    }
   ],
   "source": [
    "# 딥러닝 모델 설정\n",
    "model = Sequential([\n",
    "    Dense(30, input_shape=(17,), activation='relu'),\n",
    "    Dense(1, activation='sigmoid')\n",
    "])\n",
    "model.summary()"
   ]
  },
  {
   "cell_type": "code",
   "execution_count": 17,
   "metadata": {},
   "outputs": [],
   "source": [
    "# 딥러닝 환경 설정 (오차함수, 최적화함수)\n",
    "model.compile(loss='binary_crossentropy',\n",
    "             optimizer='adam', metrics=['accuracy'])"
   ]
  },
  {
   "cell_type": "code",
   "execution_count": 20,
   "metadata": {},
   "outputs": [
    {
     "name": "stdout",
     "output_type": "stream",
     "text": [
      "Train on 300 samples, validate on 76 samples\n",
      "Epoch 1/20\n",
      "300/300 [==============================] - 0s 153us/sample - loss: 0.4214 - accuracy: 0.8533 - val_loss: 0.5375 - val_accuracy: 0.8026\n",
      "Epoch 2/20\n",
      "300/300 [==============================] - 0s 103us/sample - loss: 0.4110 - accuracy: 0.8500 - val_loss: 0.5915 - val_accuracy: 0.8289\n",
      "Epoch 3/20\n",
      "300/300 [==============================] - 0s 96us/sample - loss: 0.4004 - accuracy: 0.8600 - val_loss: 0.5895 - val_accuracy: 0.7105\n",
      "Epoch 4/20\n",
      "300/300 [==============================] - 0s 98us/sample - loss: 0.4183 - accuracy: 0.8467 - val_loss: 0.5996 - val_accuracy: 0.8421\n",
      "Epoch 5/20\n",
      "300/300 [==============================] - 0s 94us/sample - loss: 0.4154 - accuracy: 0.8533 - val_loss: 0.5936 - val_accuracy: 0.8421\n",
      "Epoch 6/20\n",
      "300/300 [==============================] - 0s 95us/sample - loss: 0.4518 - accuracy: 0.8433 - val_loss: 0.6051 - val_accuracy: 0.6974\n",
      "Epoch 7/20\n",
      "300/300 [==============================] - 0s 96us/sample - loss: 0.4439 - accuracy: 0.8533 - val_loss: 0.5575 - val_accuracy: 0.8289\n",
      "Epoch 8/20\n",
      "300/300 [==============================] - 0s 96us/sample - loss: 0.4002 - accuracy: 0.8500 - val_loss: 0.5130 - val_accuracy: 0.8158\n",
      "Epoch 9/20\n",
      "300/300 [==============================] - 0s 100us/sample - loss: 0.4053 - accuracy: 0.8533 - val_loss: 0.5490 - val_accuracy: 0.7763\n",
      "Epoch 10/20\n",
      "300/300 [==============================] - 0s 101us/sample - loss: 0.4224 - accuracy: 0.8467 - val_loss: 0.5522 - val_accuracy: 0.8158\n",
      "Epoch 11/20\n",
      "300/300 [==============================] - 0s 100us/sample - loss: 0.3901 - accuracy: 0.8500 - val_loss: 0.4937 - val_accuracy: 0.8158\n",
      "Epoch 12/20\n",
      "300/300 [==============================] - 0s 94us/sample - loss: 0.4251 - accuracy: 0.8567 - val_loss: 0.5578 - val_accuracy: 0.7763\n",
      "Epoch 13/20\n",
      "300/300 [==============================] - 0s 104us/sample - loss: 0.4148 - accuracy: 0.8533 - val_loss: 0.5222 - val_accuracy: 0.7895\n",
      "Epoch 14/20\n",
      "300/300 [==============================] - 0s 97us/sample - loss: 0.4101 - accuracy: 0.8467 - val_loss: 0.5504 - val_accuracy: 0.8158\n",
      "Epoch 15/20\n",
      "300/300 [==============================] - 0s 98us/sample - loss: 0.4063 - accuracy: 0.8567 - val_loss: 0.5503 - val_accuracy: 0.8158\n",
      "Epoch 16/20\n",
      "300/300 [==============================] - 0s 98us/sample - loss: 0.4107 - accuracy: 0.8500 - val_loss: 0.5426 - val_accuracy: 0.8158\n",
      "Epoch 17/20\n",
      "300/300 [==============================] - 0s 98us/sample - loss: 0.4013 - accuracy: 0.8500 - val_loss: 0.5640 - val_accuracy: 0.8158\n",
      "Epoch 18/20\n",
      "300/300 [==============================] - 0s 98us/sample - loss: 0.4067 - accuracy: 0.8467 - val_loss: 0.5347 - val_accuracy: 0.8026\n",
      "Epoch 19/20\n",
      "300/300 [==============================] - 0s 95us/sample - loss: 0.4133 - accuracy: 0.8533 - val_loss: 0.5112 - val_accuracy: 0.8026\n",
      "Epoch 20/20\n",
      "300/300 [==============================] - 0s 98us/sample - loss: 0.4064 - accuracy: 0.8467 - val_loss: 0.7314 - val_accuracy: 0.8289\n"
     ]
    }
   ],
   "source": [
    "# 딥러닝 학습\n",
    "#validation set의 비율을 20%\n",
    "history = model.fit(x_train, y_train, validation_split=0.2, epochs=20, batch_size=10)"
   ]
  },
  {
   "cell_type": "code",
   "execution_count": 21,
   "metadata": {},
   "outputs": [
    {
     "name": "stdout",
     "output_type": "stream",
     "text": [
      "94/94 - 0s - loss: 0.6213 - accuracy: 0.8511\n",
      "\n",
      " Accuracy: 0.8511\n"
     ]
    }
   ],
   "source": [
    "# 결과 출력\n",
    "# evaluate() returns the loss value & metrics values for the model\n",
    "print(\"\\n Accuracy: %.4f\" % (model.evaluate(x_test, y_test, verbose=2))[1])"
   ]
  },
  {
   "cell_type": "code",
   "execution_count": 22,
   "metadata": {},
   "outputs": [
    {
     "data": {
      "text/plain": [
       "<tensorflow.python.keras.callbacks.History at 0x1386e65ab08>"
      ]
     },
     "execution_count": 22,
     "metadata": {},
     "output_type": "execute_result"
    }
   ],
   "source": [
    "history"
   ]
  },
  {
   "cell_type": "code",
   "execution_count": 23,
   "metadata": {},
   "outputs": [
    {
     "data": {
      "text/plain": [
       "{'loss': [0.4213525213301182,\n",
       "  0.4110069761673609,\n",
       "  0.4003681619962057,\n",
       "  0.4182903724412123,\n",
       "  0.41538728376229606,\n",
       "  0.45183952947457634,\n",
       "  0.44393036638696987,\n",
       "  0.400230789432923,\n",
       "  0.4053180690854788,\n",
       "  0.42235951075951256,\n",
       "  0.39011069337526955,\n",
       "  0.4250524955491225,\n",
       "  0.4148184006412824,\n",
       "  0.4101303641994794,\n",
       "  0.40629686042666435,\n",
       "  0.4107018123070399,\n",
       "  0.40126847128073373,\n",
       "  0.40674236938357355,\n",
       "  0.41334313998619715,\n",
       "  0.40638265771170456],\n",
       " 'accuracy': [0.85333335,\n",
       "  0.85,\n",
       "  0.86,\n",
       "  0.8466667,\n",
       "  0.85333335,\n",
       "  0.8433333,\n",
       "  0.85333335,\n",
       "  0.85,\n",
       "  0.85333335,\n",
       "  0.8466667,\n",
       "  0.85,\n",
       "  0.8566667,\n",
       "  0.85333335,\n",
       "  0.8466667,\n",
       "  0.8566667,\n",
       "  0.85,\n",
       "  0.85,\n",
       "  0.8466667,\n",
       "  0.85333335,\n",
       "  0.8466667],\n",
       " 'val_loss': [0.5375272717915083,\n",
       "  0.5915304920391032,\n",
       "  0.5895166765702399,\n",
       "  0.5995748324417755,\n",
       "  0.5936172788864688,\n",
       "  0.6051262272031683,\n",
       "  0.5575104983229386,\n",
       "  0.5129626836431654,\n",
       "  0.5490454372606779,\n",
       "  0.5521631962374637,\n",
       "  0.493746517128066,\n",
       "  0.5578460132605151,\n",
       "  0.5221586745036276,\n",
       "  0.5503756347063341,\n",
       "  0.5502982633678537,\n",
       "  0.5426266350244221,\n",
       "  0.5639553615137151,\n",
       "  0.5347437611535976,\n",
       "  0.5112195446303016,\n",
       "  0.7313713306855214],\n",
       " 'val_accuracy': [0.80263156,\n",
       "  0.82894737,\n",
       "  0.7105263,\n",
       "  0.84210527,\n",
       "  0.84210527,\n",
       "  0.69736844,\n",
       "  0.82894737,\n",
       "  0.81578946,\n",
       "  0.7763158,\n",
       "  0.81578946,\n",
       "  0.81578946,\n",
       "  0.7763158,\n",
       "  0.7894737,\n",
       "  0.81578946,\n",
       "  0.81578946,\n",
       "  0.81578946,\n",
       "  0.81578946,\n",
       "  0.80263156,\n",
       "  0.80263156,\n",
       "  0.82894737]}"
      ]
     },
     "execution_count": 23,
     "metadata": {},
     "output_type": "execute_result"
    }
   ],
   "source": [
    "history.history"
   ]
  },
  {
   "cell_type": "code",
   "execution_count": 29,
   "metadata": {},
   "outputs": [
    {
     "data": {
      "text/plain": [
       "[0.5375272717915083,\n",
       " 0.5915304920391032,\n",
       " 0.5895166765702399,\n",
       " 0.5995748324417755,\n",
       " 0.5936172788864688,\n",
       " 0.6051262272031683,\n",
       " 0.5575104983229386,\n",
       " 0.5129626836431654,\n",
       " 0.5490454372606779,\n",
       " 0.5521631962374637,\n",
       " 0.493746517128066,\n",
       " 0.5578460132605151,\n",
       " 0.5221586745036276,\n",
       " 0.5503756347063341,\n",
       " 0.5502982633678537,\n",
       " 0.5426266350244221,\n",
       " 0.5639553615137151,\n",
       " 0.5347437611535976,\n",
       " 0.5112195446303016,\n",
       " 0.7313713306855214]"
      ]
     },
     "execution_count": 29,
     "metadata": {},
     "output_type": "execute_result"
    }
   ],
   "source": [
    "history.history['accuracy']\n",
    "history.history['val_accuracy']\n",
    "history.history['loss']\n",
    "history.history['val_loss']"
   ]
  },
  {
   "cell_type": "code",
   "execution_count": 28,
   "metadata": {},
   "outputs": [
    {
     "data": {
      "text/html": [
       "<div>\n",
       "<style scoped>\n",
       "    .dataframe tbody tr th:only-of-type {\n",
       "        vertical-align: middle;\n",
       "    }\n",
       "\n",
       "    .dataframe tbody tr th {\n",
       "        vertical-align: top;\n",
       "    }\n",
       "\n",
       "    .dataframe thead th {\n",
       "        text-align: right;\n",
       "    }\n",
       "</style>\n",
       "<table border=\"1\" class=\"dataframe\">\n",
       "  <thead>\n",
       "    <tr style=\"text-align: right;\">\n",
       "      <th></th>\n",
       "      <th>loss</th>\n",
       "      <th>accuracy</th>\n",
       "      <th>val_loss</th>\n",
       "      <th>val_accuracy</th>\n",
       "    </tr>\n",
       "  </thead>\n",
       "  <tbody>\n",
       "    <tr>\n",
       "      <th>0</th>\n",
       "      <td>0.421353</td>\n",
       "      <td>0.853333</td>\n",
       "      <td>0.537527</td>\n",
       "      <td>0.802632</td>\n",
       "    </tr>\n",
       "    <tr>\n",
       "      <th>1</th>\n",
       "      <td>0.411007</td>\n",
       "      <td>0.850000</td>\n",
       "      <td>0.591530</td>\n",
       "      <td>0.828947</td>\n",
       "    </tr>\n",
       "    <tr>\n",
       "      <th>2</th>\n",
       "      <td>0.400368</td>\n",
       "      <td>0.860000</td>\n",
       "      <td>0.589517</td>\n",
       "      <td>0.710526</td>\n",
       "    </tr>\n",
       "    <tr>\n",
       "      <th>3</th>\n",
       "      <td>0.418290</td>\n",
       "      <td>0.846667</td>\n",
       "      <td>0.599575</td>\n",
       "      <td>0.842105</td>\n",
       "    </tr>\n",
       "    <tr>\n",
       "      <th>4</th>\n",
       "      <td>0.415387</td>\n",
       "      <td>0.853333</td>\n",
       "      <td>0.593617</td>\n",
       "      <td>0.842105</td>\n",
       "    </tr>\n",
       "  </tbody>\n",
       "</table>\n",
       "</div>"
      ],
      "text/plain": [
       "       loss  accuracy  val_loss  val_accuracy\n",
       "0  0.421353  0.853333  0.537527      0.802632\n",
       "1  0.411007  0.850000  0.591530      0.828947\n",
       "2  0.400368  0.860000  0.589517      0.710526\n",
       "3  0.418290  0.846667  0.599575      0.842105\n",
       "4  0.415387  0.853333  0.593617      0.842105"
      ]
     },
     "execution_count": 28,
     "metadata": {},
     "output_type": "execute_result"
    }
   ],
   "source": [
    "import pandas as pd\n",
    "df = pd.DataFrame(history.history)\n",
    "df.head()"
   ]
  },
  {
   "cell_type": "code",
   "execution_count": null,
   "metadata": {},
   "outputs": [],
   "source": []
  }
 ],
 "metadata": {
  "kernelspec": {
   "display_name": "Python 3",
   "language": "python",
   "name": "python3"
  },
  "language_info": {
   "codemirror_mode": {
    "name": "ipython",
    "version": 3
   },
   "file_extension": ".py",
   "mimetype": "text/x-python",
   "name": "python",
   "nbconvert_exporter": "python",
   "pygments_lexer": "ipython3",
   "version": "3.7.7"
  }
 },
 "nbformat": 4,
 "nbformat_minor": 4
}
