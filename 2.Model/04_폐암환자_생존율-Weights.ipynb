{
 "cells": [
  {
   "cell_type": "markdown",
   "metadata": {},
   "source": [
    "## 폐암 수술 환자의 생존율 데이터 분석"
   ]
  },
  {
   "cell_type": "code",
   "execution_count": 1,
   "metadata": {},
   "outputs": [
    {
     "data": {
      "text/plain": [
       "'2.0.0'"
      ]
     },
     "execution_count": 1,
     "metadata": {},
     "output_type": "execute_result"
    }
   ],
   "source": [
    "# 필요한 라이브러리\n",
    "import numpy as np\n",
    "import tensorflow as tf\n",
    "tf.__version__"
   ]
  },
  {
   "cell_type": "code",
   "execution_count": 2,
   "metadata": {},
   "outputs": [],
   "source": [
    "from tensorflow.keras.models import Sequential\n",
    "from tensorflow.keras.layers import Dense"
   ]
  },
  {
   "cell_type": "code",
   "execution_count": 3,
   "metadata": {},
   "outputs": [],
   "source": [
    "# 실행할 때마다 같은 결과를 출력하기 위한 seed 값 설정\n",
    "seed = 0\n",
    "np.random.seed(seed)\n",
    "tf.random.set_seed(seed)"
   ]
  },
  {
   "cell_type": "code",
   "execution_count": 4,
   "metadata": {},
   "outputs": [
    {
     "data": {
      "text/plain": [
       "array([[293.  ,   1.  ,   3.8 , ...,   0.  ,  62.  ,   0.  ],\n",
       "       [  1.  ,   2.  ,   2.88, ...,   0.  ,  60.  ,   0.  ],\n",
       "       [  8.  ,   2.  ,   3.19, ...,   0.  ,  66.  ,   1.  ],\n",
       "       ...,\n",
       "       [406.  ,   6.  ,   5.36, ...,   0.  ,  62.  ,   0.  ],\n",
       "       [ 25.  ,   8.  ,   4.32, ...,   0.  ,  58.  ,   1.  ],\n",
       "       [447.  ,   8.  ,   5.2 , ...,   0.  ,  49.  ,   0.  ]])"
      ]
     },
     "execution_count": 4,
     "metadata": {},
     "output_type": "execute_result"
    }
   ],
   "source": [
    "# 준비된 수술 환자 데이터를 불러들임\n",
    "Data_set = np.loadtxt(\"dataset/ThoraricSurgery.csv\", delimiter=\",\")\n",
    "Data_set"
   ]
  },
  {
   "cell_type": "code",
   "execution_count": 5,
   "metadata": {},
   "outputs": [
    {
     "data": {
      "text/plain": [
       "((470, 17), (470,))"
      ]
     },
     "execution_count": 5,
     "metadata": {},
     "output_type": "execute_result"
    }
   ],
   "source": [
    "# 환자의 기록과 수술 결과를 X와 Y로 구분하여 저장\n",
    "X = Data_set[:, 0:17]\n",
    "Y = Data_set[:, 17]\n",
    "X.shape, Y.shape"
   ]
  },
  {
   "cell_type": "code",
   "execution_count": 6,
   "metadata": {},
   "outputs": [
    {
     "name": "stdout",
     "output_type": "stream",
     "text": [
      "Model: \"sequential\"\n",
      "_________________________________________________________________\n",
      "Layer (type)                 Output Shape              Param #   \n",
      "=================================================================\n",
      "Hidden_Layer (Dense)         (None, 30)                540       \n",
      "_________________________________________________________________\n",
      "Output_Layer (Dense)         (None, 1)                 31        \n",
      "=================================================================\n",
      "Total params: 571\n",
      "Trainable params: 571\n",
      "Non-trainable params: 0\n",
      "_________________________________________________________________\n"
     ]
    }
   ],
   "source": [
    "# 딥러닝 모델 설정\n",
    "hidden = Dense(30, input_shape=(17,), activation='relu', name='Hidden_Layer')\n",
    "output = Dense(1, activation='sigmoid', name='Output_Layer')\n",
    "model = Sequential()\n",
    "model.add(hidden)\n",
    "model.add(output)\n",
    "model.summary()"
   ]
  },
  {
   "cell_type": "code",
   "execution_count": 7,
   "metadata": {},
   "outputs": [],
   "source": [
    "# 딥러닝 환경 설정 (오차함수, 최적화함수)\n",
    "model.compile(loss='binary_crossentropy', optimizer='adam', metrics=['accuracy'])"
   ]
  },
  {
   "cell_type": "code",
   "execution_count": 8,
   "metadata": {},
   "outputs": [
    {
     "name": "stdout",
     "output_type": "stream",
     "text": [
      "Train on 470 samples\n",
      "Epoch 1/20\n",
      "470/470 [==============================] - 2s 4ms/sample - loss: 3.8373 - accuracy: 0.6489\n",
      "Epoch 2/20\n",
      "470/470 [==============================] - 0s 267us/sample - loss: 0.6170 - accuracy: 0.8298\n",
      "Epoch 3/20\n",
      "470/470 [==============================] - 0s 267us/sample - loss: 0.4939 - accuracy: 0.8447\n",
      "Epoch 4/20\n",
      "470/470 [==============================] - 0s 280us/sample - loss: 0.5024 - accuracy: 0.8319\n",
      "Epoch 5/20\n",
      "470/470 [==============================] - 0s 314us/sample - loss: 0.4672 - accuracy: 0.8404\n",
      "Epoch 6/20\n",
      "470/470 [==============================] - 0s 265us/sample - loss: 0.4807 - accuracy: 0.8511\n",
      "Epoch 7/20\n",
      "470/470 [==============================] - 0s 269us/sample - loss: 0.4820 - accuracy: 0.8383\n",
      "Epoch 8/20\n",
      "470/470 [==============================] - 0s 276us/sample - loss: 0.4812 - accuracy: 0.8468\n",
      "Epoch 9/20\n",
      "470/470 [==============================] - 0s 316us/sample - loss: 0.4751 - accuracy: 0.8468\n",
      "Epoch 10/20\n",
      "470/470 [==============================] - 0s 310us/sample - loss: 0.4848 - accuracy: 0.8255\n",
      "Epoch 11/20\n",
      "470/470 [==============================] - 0s 297us/sample - loss: 0.5382 - accuracy: 0.8277\n",
      "Epoch 12/20\n",
      "470/470 [==============================] - 0s 274us/sample - loss: 0.4532 - accuracy: 0.8511\n",
      "Epoch 13/20\n",
      "470/470 [==============================] - 0s 284us/sample - loss: 0.4569 - accuracy: 0.8489\n",
      "Epoch 14/20\n",
      "470/470 [==============================] - 0s 257us/sample - loss: 0.4413 - accuracy: 0.8532\n",
      "Epoch 15/20\n",
      "470/470 [==============================] - 0s 274us/sample - loss: 0.4901 - accuracy: 0.8489\n",
      "Epoch 16/20\n",
      "470/470 [==============================] - 0s 299us/sample - loss: 0.4498 - accuracy: 0.8468\n",
      "Epoch 17/20\n",
      "470/470 [==============================] - 0s 297us/sample - loss: 0.4389 - accuracy: 0.8553\n",
      "Epoch 18/20\n",
      "470/470 [==============================] - 0s 272us/sample - loss: 0.4599 - accuracy: 0.8511\n",
      "Epoch 19/20\n",
      "470/470 [==============================] - 0s 257us/sample - loss: 0.4596 - accuracy: 0.8447\n",
      "Epoch 20/20\n",
      "470/470 [==============================] - 0s 280us/sample - loss: 0.4355 - accuracy: 0.8511\n"
     ]
    },
    {
     "data": {
      "text/plain": [
       "<tensorflow.python.keras.callbacks.History at 0x2568c9cb888>"
      ]
     },
     "execution_count": 8,
     "metadata": {},
     "output_type": "execute_result"
    }
   ],
   "source": [
    "# 딥러닝 실행\n",
    "model.fit(X, Y, epochs=20, batch_size=10)"
   ]
  },
  {
   "cell_type": "code",
   "execution_count": 9,
   "metadata": {},
   "outputs": [
    {
     "name": "stdout",
     "output_type": "stream",
     "text": [
      "470/1 - 0s - loss: 0.9498 - accuracy: 0.8532\n",
      "\n",
      " Accuracy: 0.8532\n"
     ]
    }
   ],
   "source": [
    "# 결과 출력\n",
    "# evaluate() returns the loss value & metrics values for the model \n",
    "print(\"\\n Accuracy: %.4f\" % (model.evaluate(X, Y, verbose=2))[1])"
   ]
  },
  {
   "cell_type": "markdown",
   "metadata": {},
   "source": [
    "### Weight와 bias를 구하는 방법"
   ]
  },
  {
   "cell_type": "code",
   "execution_count": 10,
   "metadata": {},
   "outputs": [
    {
     "data": {
      "text/plain": [
       "{'name': 'Hidden_Layer',\n",
       " 'trainable': True,\n",
       " 'batch_input_shape': (None, 17),\n",
       " 'dtype': 'float32',\n",
       " 'units': 30,\n",
       " 'activation': 'relu',\n",
       " 'use_bias': True,\n",
       " 'kernel_initializer': {'class_name': 'GlorotUniform',\n",
       "  'config': {'seed': None}},\n",
       " 'bias_initializer': {'class_name': 'Zeros', 'config': {}},\n",
       " 'kernel_regularizer': None,\n",
       " 'bias_regularizer': None,\n",
       " 'activity_regularizer': None,\n",
       " 'kernel_constraint': None,\n",
       " 'bias_constraint': None}"
      ]
     },
     "execution_count": 10,
     "metadata": {},
     "output_type": "execute_result"
    }
   ],
   "source": [
    "hidden.get_config()"
   ]
  },
  {
   "cell_type": "code",
   "execution_count": 11,
   "metadata": {},
   "outputs": [],
   "source": [
    "hl = hidden.get_weights()"
   ]
  },
  {
   "cell_type": "code",
   "execution_count": 12,
   "metadata": {},
   "outputs": [
    {
     "data": {
      "text/plain": [
       "list"
      ]
     },
     "execution_count": 12,
     "metadata": {},
     "output_type": "execute_result"
    }
   ],
   "source": [
    "type(hl)"
   ]
  },
  {
   "cell_type": "code",
   "execution_count": 13,
   "metadata": {},
   "outputs": [
    {
     "data": {
      "text/plain": [
       "(17, 30)"
      ]
     },
     "execution_count": 13,
     "metadata": {},
     "output_type": "execute_result"
    }
   ],
   "source": [
    "len(hl[0]), len(hl[1])"
   ]
  },
  {
   "cell_type": "code",
   "execution_count": 14,
   "metadata": {},
   "outputs": [
    {
     "data": {
      "text/plain": [
       "(17, 30)"
      ]
     },
     "execution_count": 14,
     "metadata": {},
     "output_type": "execute_result"
    }
   ],
   "source": [
    "W1 = hl[0]\n",
    "W1.shape"
   ]
  },
  {
   "cell_type": "code",
   "execution_count": 15,
   "metadata": {},
   "outputs": [
    {
     "data": {
      "text/plain": [
       "array([-0.20977446, -0.1037964 , -0.1605466 , -0.25685525, -0.27460045,\n",
       "        0.1918003 ,  0.06241258,  0.3673455 ,  0.25394616, -0.2560622 ,\n",
       "       -0.25761172,  0.07367649, -0.23814453, -0.02003992,  0.29244506,\n",
       "       -0.20140937, -0.35186014,  0.06906801,  0.01232258,  0.21800292,\n",
       "        0.05997312, -0.34817117,  0.2828323 , -0.1270954 , -0.00245204,\n",
       "       -0.16273206, -0.28886884, -0.1004855 , -0.3074081 , -0.36045903],\n",
       "      dtype=float32)"
      ]
     },
     "execution_count": 15,
     "metadata": {},
     "output_type": "execute_result"
    }
   ],
   "source": [
    "b1 = W1[1]\n",
    "b1"
   ]
  },
  {
   "cell_type": "code",
   "execution_count": 16,
   "metadata": {},
   "outputs": [
    {
     "data": {
      "text/plain": [
       "{'name': 'Output_Layer',\n",
       " 'trainable': True,\n",
       " 'dtype': 'float32',\n",
       " 'units': 1,\n",
       " 'activation': 'sigmoid',\n",
       " 'use_bias': True,\n",
       " 'kernel_initializer': {'class_name': 'GlorotUniform',\n",
       "  'config': {'seed': None}},\n",
       " 'bias_initializer': {'class_name': 'Zeros', 'config': {}},\n",
       " 'kernel_regularizer': None,\n",
       " 'bias_regularizer': None,\n",
       " 'activity_regularizer': None,\n",
       " 'kernel_constraint': None,\n",
       " 'bias_constraint': None}"
      ]
     },
     "execution_count": 16,
     "metadata": {},
     "output_type": "execute_result"
    }
   ],
   "source": [
    "output.get_config()"
   ]
  },
  {
   "cell_type": "code",
   "execution_count": 17,
   "metadata": {},
   "outputs": [
    {
     "data": {
      "text/plain": [
       "[array([[ 0.03103479],\n",
       "        [-0.40789023],\n",
       "        [ 0.3093211 ],\n",
       "        [ 0.21061262],\n",
       "        [ 0.12422135],\n",
       "        [ 0.01136309],\n",
       "        [-0.4622881 ],\n",
       "        [ 0.31394702],\n",
       "        [-0.04393003],\n",
       "        [-0.09966528],\n",
       "        [ 0.3176729 ],\n",
       "        [ 0.11698484],\n",
       "        [-0.43491066],\n",
       "        [ 0.29235536],\n",
       "        [-0.34820223],\n",
       "        [ 0.38379648],\n",
       "        [-0.2646584 ],\n",
       "        [ 0.11770991],\n",
       "        [-0.34917378],\n",
       "        [-0.3086719 ],\n",
       "        [ 0.42861092],\n",
       "        [ 0.34584683],\n",
       "        [-0.393825  ],\n",
       "        [ 0.12181813],\n",
       "        [-0.04958315],\n",
       "        [ 0.42037734],\n",
       "        [ 0.3208077 ],\n",
       "        [ 0.22253889],\n",
       "        [ 0.22082669],\n",
       "        [-0.19559163]], dtype=float32), array([-0.00844426], dtype=float32)]"
      ]
     },
     "execution_count": 17,
     "metadata": {},
     "output_type": "execute_result"
    }
   ],
   "source": [
    "output.get_weights()"
   ]
  },
  {
   "cell_type": "code",
   "execution_count": 18,
   "metadata": {},
   "outputs": [],
   "source": [
    "W2 = output.get_weights()[0]\n",
    "b2 = output.get_weights()[1]"
   ]
  },
  {
   "cell_type": "code",
   "execution_count": 19,
   "metadata": {},
   "outputs": [
    {
     "data": {
      "text/plain": [
       "(30, 1)"
      ]
     },
     "execution_count": 19,
     "metadata": {},
     "output_type": "execute_result"
    }
   ],
   "source": [
    "W2.shape"
   ]
  },
  {
   "cell_type": "code",
   "execution_count": 20,
   "metadata": {},
   "outputs": [
    {
     "data": {
      "text/plain": [
       "array([-0.00844426], dtype=float32)"
      ]
     },
     "execution_count": 20,
     "metadata": {},
     "output_type": "execute_result"
    }
   ],
   "source": [
    "b2"
   ]
  },
  {
   "cell_type": "code",
   "execution_count": null,
   "metadata": {},
   "outputs": [],
   "source": []
  }
 ],
 "metadata": {
  "kernelspec": {
   "display_name": "tf2-gpu",
   "language": "python",
   "name": "tf2"
  },
  "language_info": {
   "codemirror_mode": {
    "name": "ipython",
    "version": 3
   },
   "file_extension": ".py",
   "mimetype": "text/x-python",
   "name": "python",
   "nbconvert_exporter": "python",
   "pygments_lexer": "ipython3",
   "version": "3.7.5"
  }
 },
 "nbformat": 4,
 "nbformat_minor": 2
}
