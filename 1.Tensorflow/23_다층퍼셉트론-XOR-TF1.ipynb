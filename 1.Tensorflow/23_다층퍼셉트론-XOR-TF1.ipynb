{
 "cells": [
  {
   "cell_type": "markdown",
   "metadata": {},
   "source": [
    "## 다층 퍼셉트론 - XOR - Tensorflow 1.x"
   ]
  },
  {
   "cell_type": "code",
   "execution_count": 1,
   "metadata": {},
   "outputs": [
    {
     "name": "stdout",
     "output_type": "stream",
     "text": [
      "WARNING:tensorflow:From C:\\Users\\ckkim\\.conda\\envs\\tf2\\lib\\site-packages\\tensorflow_core\\python\\compat\\v2_compat.py:68: disable_resource_variables (from tensorflow.python.ops.variable_scope) is deprecated and will be removed in a future version.\n",
      "Instructions for updating:\n",
      "non-resource variables are not supported in the long term\n"
     ]
    }
   ],
   "source": [
    "import numpy as np\n",
    "import tensorflow.compat.v1 as tf\n",
    "tf.disable_v2_behavior()"
   ]
  },
  {
   "cell_type": "code",
   "execution_count": 14,
   "metadata": {},
   "outputs": [],
   "source": [
    "# 실행할 때마다 같은 결과를 출력하기 위한 seed 값 설정\n",
    "seed = 123\n",
    "np.random.seed(seed)\n",
    "tf.set_random_seed(seed)"
   ]
  },
  {
   "cell_type": "code",
   "execution_count": 3,
   "metadata": {},
   "outputs": [
    {
     "name": "stdout",
     "output_type": "stream",
     "text": [
      "(4, 2) (4,)\n"
     ]
    },
    {
     "data": {
      "text/plain": [
       "array([0, 1, 1, 0])"
      ]
     },
     "execution_count": 3,
     "metadata": {},
     "output_type": "execute_result"
    }
   ],
   "source": [
    "# x, y의 데이터 값\n",
    "x_data = np.array([[0, 0],[0, 1],[1, 0],[1, 1]]) \n",
    "y_data = np.array([0, 1, 1, 0])\n",
    "print(x_data.shape, y_data.shape)\n",
    "y_data"
   ]
  },
  {
   "cell_type": "code",
   "execution_count": 4,
   "metadata": {},
   "outputs": [
    {
     "name": "stdout",
     "output_type": "stream",
     "text": [
      "(4, 2) (4, 1)\n"
     ]
    },
    {
     "data": {
      "text/plain": [
       "array([[0],\n",
       "       [1],\n",
       "       [1],\n",
       "       [0]])"
      ]
     },
     "execution_count": 4,
     "metadata": {},
     "output_type": "execute_result"
    }
   ],
   "source": [
    "y_data = y_data.reshape(4,1)\n",
    "print(x_data.shape, y_data.shape)\n",
    "y_data"
   ]
  },
  {
   "cell_type": "code",
   "execution_count": 5,
   "metadata": {},
   "outputs": [],
   "source": [
    "X = tf.placeholder(tf.float32, [None, 2])\n",
    "Y = tf.placeholder(tf.float32, [None, 1])"
   ]
  },
  {
   "cell_type": "code",
   "execution_count": 6,
   "metadata": {},
   "outputs": [],
   "source": [
    "# Layer 1\n",
    "W1 = tf.Variable(tf.random_normal([2, 2]), dtype=tf.float32)\n",
    "b1 = tf.Variable(tf.random_normal([2]), dtype=tf.float32)\n",
    "L1 = tf.sigmoid(tf.matmul(X, W1) + b1)"
   ]
  },
  {
   "cell_type": "code",
   "execution_count": 7,
   "metadata": {},
   "outputs": [],
   "source": [
    "# Layer 2\n",
    "W2 = tf.Variable(tf.random_normal([2, 1]), dtype=tf.float32)\n",
    "b2 = tf.Variable(tf.random_normal([1]), dtype=tf.float32)\n",
    "hypo = tf.sigmoid(tf.matmul(L1, W2) + b2)"
   ]
  },
  {
   "cell_type": "code",
   "execution_count": 8,
   "metadata": {},
   "outputs": [],
   "source": [
    "# Cost - Binary Cross Entropy\n",
    "cost = -tf.reduce_mean(Y * tf.log(hypo) + (1.-Y) * tf.log(1.-hypo))"
   ]
  },
  {
   "cell_type": "code",
   "execution_count": 16,
   "metadata": {},
   "outputs": [],
   "source": [
    "# Optimizer - Adam\n",
    "lr = 0.1\n",
    "train = tf.train.AdamOptimizer(learning_rate=lr).minimize(cost)"
   ]
  },
  {
   "cell_type": "code",
   "execution_count": 10,
   "metadata": {},
   "outputs": [],
   "source": [
    "# Accuracy 계산\n",
    "predicted = tf.cast(hypo > 0.5, dtype=tf.float32)\n",
    "accuracy = tf.reduce_mean(tf.cast(tf.equal(predicted, Y), dtype=tf.float32))"
   ]
  },
  {
   "cell_type": "code",
   "execution_count": 17,
   "metadata": {},
   "outputs": [
    {
     "name": "stdout",
     "output_type": "stream",
     "text": [
      "0 0.7033546\n",
      "1000 0.34680158\n",
      "2000 0.3466391\n",
      "3000 0.346602\n",
      "4000 0.34658813\n",
      "5000 0.3465813\n",
      "6000 0.34657827\n",
      "7000 0.3465762\n",
      "8000 0.34657523\n",
      "9000 0.3465744\n",
      "10000 0.34657425\n",
      "\n",
      "Hypothesis:\n",
      "[[5.0000072e-01]\n",
      " [4.9999973e-01]\n",
      " [9.9999928e-01]\n",
      " [4.1723251e-07]] \n",
      "Predicted:\n",
      "[[1.]\n",
      " [0.]\n",
      " [1.]\n",
      " [0.]] \n",
      "Accuracy:\n",
      "0.5\n",
      "\n",
      "W1:\n",
      "[[18.690361  19.531244 ]\n",
      " [ 5.2994647 -8.157976 ]] \n",
      "b1:\n",
      "[-21.826498 -16.547342] \n",
      "W2:\n",
      "[[-16.485106]\n",
      " [ 15.602318]]\n",
      "b1:\n",
      "[1.3868048e-06]\n"
     ]
    }
   ],
   "source": [
    "# 학습\n",
    "with tf.Session() as sess:\n",
    "    # Initialize TensorFlow variables\n",
    "    sess.run(tf.global_variables_initializer())\n",
    "    for step in range(10001):\n",
    "        _, cost_val = sess.run([train, cost], feed_dict={X: x_data, Y: y_data})\n",
    "        if step % 1000 == 0:\n",
    "            print(step, cost_val)\n",
    "            \n",
    "    # Accuracy report\n",
    "    h, p, a = sess.run([hypo, predicted, accuracy], feed_dict={X: x_data, Y: y_data}) \n",
    "    print(f\"\\nHypothesis:\\n{h} \\nPredicted:\\n{p} \\nAccuracy:\\n{a}\")\n",
    "    \n",
    "    # Weight, bias\n",
    "    W1_, b1_, W2_, b2_ = sess.run([W1, b1, W2, b2])\n",
    "    print(f\"\\nW1:\\n{W1_} \\nb1:\\n{b1_} \\nW2:\\n{W2_}\\nb1:\\n{b2_}\")"
   ]
  },
  {
   "cell_type": "code",
   "execution_count": null,
   "metadata": {},
   "outputs": [],
   "source": []
  }
 ],
 "metadata": {
  "kernelspec": {
   "display_name": "Python 3",
   "language": "python",
   "name": "python3"
  },
  "language_info": {
   "codemirror_mode": {
    "name": "ipython",
    "version": 3
   },
   "file_extension": ".py",
   "mimetype": "text/x-python",
   "name": "python",
   "nbconvert_exporter": "python",
   "pygments_lexer": "ipython3",
   "version": "3.7.5"
  }
 },
 "nbformat": 4,
 "nbformat_minor": 2
}
