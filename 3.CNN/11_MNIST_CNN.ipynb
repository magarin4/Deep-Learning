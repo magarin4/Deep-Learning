{
 "cells": [
  {
   "cell_type": "markdown",
   "metadata": {},
   "source": [
    "# 이미지 인식 - CNN\n",
    "## MNIST 사례"
   ]
  },
  {
   "cell_type": "code",
   "execution_count": 9,
   "metadata": {},
   "outputs": [],
   "source": [
    "import numpy as np\n",
    "import tensorflow as tf\n",
    "from tensorflow.keras.datasets import mnist\n",
    "from tensorflow.keras.models import Sequential\n",
    "from tensorflow.keras.layers import Dense, Dropout, Flatten, Conv2D, MaxPooling2D\n",
    "from tensorflow.keras.callbacks import ModelCheckpoint, EarlyStopping\n",
    "\n",
    "import os\n",
    "import matplotlib.pyplot as plt\n",
    "%matplotlib inline"
   ]
  },
  {
   "cell_type": "code",
   "execution_count": 10,
   "metadata": {},
   "outputs": [],
   "source": [
    "# seed 값 설정\n",
    "seed = 0\n",
    "np.random.seed(seed)\n",
    "tf.random.set_seed(seed)"
   ]
  },
  {
   "cell_type": "code",
   "execution_count": 11,
   "metadata": {},
   "outputs": [],
   "source": [
    "# 데이터 불러오기\n",
    "(X_train, Y_train), (X_test, Y_test) = mnist.load_data()\n",
    "X_train = X_train.reshape(X_train.shape[0], 28, 28, 1).astype('float32') / 255\n",
    "X_test = X_test.reshape(X_test.shape[0], 28, 28, 1).astype('float32') / 255\n",
    "Y_train = tf.keras.utils.to_categorical(Y_train)\n",
    "Y_test = tf.keras.utils.to_categorical(Y_test)"
   ]
  },
  {
   "cell_type": "code",
   "execution_count": 12,
   "metadata": {},
   "outputs": [
    {
     "name": "stdout",
     "output_type": "stream",
     "text": [
      "Model: \"sequential_1\"\n",
      "_________________________________________________________________\n",
      "Layer (type)                 Output Shape              Param #   \n",
      "=================================================================\n",
      "conv2d_2 (Conv2D)            (None, 26, 26, 32)        320       \n",
      "_________________________________________________________________\n",
      "conv2d_3 (Conv2D)            (None, 24, 24, 64)        18496     \n",
      "_________________________________________________________________\n",
      "max_pooling2d_1 (MaxPooling2 (None, 12, 12, 64)        0         \n",
      "_________________________________________________________________\n",
      "dropout_2 (Dropout)          (None, 12, 12, 64)        0         \n",
      "_________________________________________________________________\n",
      "flatten_1 (Flatten)          (None, 9216)              0         \n",
      "_________________________________________________________________\n",
      "dense_2 (Dense)              (None, 128)               1179776   \n",
      "_________________________________________________________________\n",
      "dropout_3 (Dropout)          (None, 128)               0         \n",
      "_________________________________________________________________\n",
      "dense_3 (Dense)              (None, 10)                1290      \n",
      "=================================================================\n",
      "Total params: 1,199,882\n",
      "Trainable params: 1,199,882\n",
      "Non-trainable params: 0\n",
      "_________________________________________________________________\n"
     ]
    }
   ],
   "source": [
    "# 컨볼루션 신경망 설정\n",
    "model = Sequential([\n",
    "    Conv2D(32, kernel_size=(3, 3), input_shape=(28, 28, 1), activation='relu'),\n",
    "    Conv2D(64, (3, 3), activation='relu'),\n",
    "    MaxPooling2D(pool_size=2),\n",
    "    Dropout(0.25),\n",
    "    Flatten(),\n",
    "    Dense(128, activation='relu'),\n",
    "    Dropout(0.5),\n",
    "    Dense(10, activation='softmax')\n",
    "])\n",
    "model.summary()"
   ]
  },
  {
   "cell_type": "code",
   "execution_count": 13,
   "metadata": {},
   "outputs": [],
   "source": [
    "model.compile(loss='categorical_crossentropy',\n",
    "              optimizer='adam',\n",
    "              metrics=['accuracy'])"
   ]
  },
  {
   "cell_type": "code",
   "execution_count": 14,
   "metadata": {},
   "outputs": [],
   "source": [
    "# 모델 최적화 설정\n",
    "MODEL_DIR = './model/'\n",
    "if not os.path.exists(MODEL_DIR):\n",
    "    os.mkdir(MODEL_DIR)"
   ]
  },
  {
   "cell_type": "code",
   "execution_count": 15,
   "metadata": {},
   "outputs": [],
   "source": [
    "modelpath = MODEL_DIR + \"mnist-cnn-{epoch:02d}-{val_loss:.4f}.hdf5\"\n",
    "checkpointer = ModelCheckpoint(filepath=modelpath, monitor='val_loss', \n",
    "                               verbose=1, save_best_only=True)\n",
    "early_stopping_callback = EarlyStopping(monitor='val_loss', patience=10)"
   ]
  },
  {
   "cell_type": "code",
   "execution_count": 16,
   "metadata": {},
   "outputs": [
    {
     "name": "stdout",
     "output_type": "stream",
     "text": [
      "Train on 60000 samples, validate on 10000 samples\n",
      "Epoch 1/30\n",
      "59800/60000 [============================>.] - ETA: 0s - loss: 0.2792 - accuracy: 0.9152\n",
      "Epoch 00001: val_loss improved from inf to 0.05597, saving model to ./model/mnist-cnn-01-0.0560.hdf5\n",
      "60000/60000 [==============================] - 64s 1ms/sample - loss: 0.2785 - accuracy: 0.9154 - val_loss: 0.0560 - val_accuracy: 0.9828\n",
      "Epoch 2/30\n",
      "59800/60000 [============================>.] - ETA: 0s - loss: 0.0936 - accuracy: 0.9721\n",
      "Epoch 00002: val_loss improved from 0.05597 to 0.04077, saving model to ./model/mnist-cnn-02-0.0408.hdf5\n",
      "60000/60000 [==============================] - 64s 1ms/sample - loss: 0.0935 - accuracy: 0.9721 - val_loss: 0.0408 - val_accuracy: 0.9867\n",
      "Epoch 3/30\n",
      "59800/60000 [============================>.] - ETA: 0s - loss: 0.0681 - accuracy: 0.9796\n",
      "Epoch 00003: val_loss improved from 0.04077 to 0.03669, saving model to ./model/mnist-cnn-03-0.0367.hdf5\n",
      "60000/60000 [==============================] - 64s 1ms/sample - loss: 0.0680 - accuracy: 0.9796 - val_loss: 0.0367 - val_accuracy: 0.9868\n",
      "Epoch 4/30\n",
      "59800/60000 [============================>.] - ETA: 0s - loss: 0.0552 - accuracy: 0.9832\n",
      "Epoch 00004: val_loss improved from 0.03669 to 0.03263, saving model to ./model/mnist-cnn-04-0.0326.hdf5\n",
      "60000/60000 [==============================] - 64s 1ms/sample - loss: 0.0551 - accuracy: 0.9833 - val_loss: 0.0326 - val_accuracy: 0.9884\n",
      "Epoch 5/30\n",
      "59800/60000 [============================>.] - ETA: 0s - loss: 0.0495 - accuracy: 0.9845\n",
      "Epoch 00005: val_loss improved from 0.03263 to 0.03242, saving model to ./model/mnist-cnn-05-0.0324.hdf5\n",
      "60000/60000 [==============================] - 64s 1ms/sample - loss: 0.0494 - accuracy: 0.9845 - val_loss: 0.0324 - val_accuracy: 0.9893\n",
      "Epoch 6/30\n",
      "59800/60000 [============================>.] - ETA: 0s - loss: 0.0421 - accuracy: 0.9866\n",
      "Epoch 00006: val_loss improved from 0.03242 to 0.02709, saving model to ./model/mnist-cnn-06-0.0271.hdf5\n",
      "60000/60000 [==============================] - 64s 1ms/sample - loss: 0.0421 - accuracy: 0.9865 - val_loss: 0.0271 - val_accuracy: 0.9909\n",
      "Epoch 7/30\n",
      "59800/60000 [============================>.] - ETA: 0s - loss: 0.0355 - accuracy: 0.9890\n",
      "Epoch 00007: val_loss did not improve from 0.02709\n",
      "60000/60000 [==============================] - 64s 1ms/sample - loss: 0.0355 - accuracy: 0.9890 - val_loss: 0.0313 - val_accuracy: 0.9901\n",
      "Epoch 8/30\n",
      "59800/60000 [============================>.] - ETA: 0s - loss: 0.0333 - accuracy: 0.9892\n",
      "Epoch 00008: val_loss did not improve from 0.02709\n",
      "60000/60000 [==============================] - 64s 1ms/sample - loss: 0.0332 - accuracy: 0.9893 - val_loss: 0.0279 - val_accuracy: 0.9907\n",
      "Epoch 9/30\n",
      "59800/60000 [============================>.] - ETA: 0s - loss: 0.0308 - accuracy: 0.9903\n",
      "Epoch 00009: val_loss improved from 0.02709 to 0.02700, saving model to ./model/mnist-cnn-09-0.0270.hdf5\n",
      "60000/60000 [==============================] - 64s 1ms/sample - loss: 0.0307 - accuracy: 0.9903 - val_loss: 0.0270 - val_accuracy: 0.9915\n",
      "Epoch 10/30\n",
      "59800/60000 [============================>.] - ETA: 0s - loss: 0.0284 - accuracy: 0.9908\n",
      "Epoch 00010: val_loss did not improve from 0.02700\n",
      "60000/60000 [==============================] - 64s 1ms/sample - loss: 0.0284 - accuracy: 0.9908 - val_loss: 0.0305 - val_accuracy: 0.9906\n",
      "Epoch 11/30\n",
      "59800/60000 [============================>.] - ETA: 0s - loss: 0.0260 - accuracy: 0.9917\n",
      "Epoch 00011: val_loss did not improve from 0.02700\n",
      "60000/60000 [==============================] - 65s 1ms/sample - loss: 0.0260 - accuracy: 0.9917 - val_loss: 0.0280 - val_accuracy: 0.9924\n",
      "Epoch 12/30\n",
      "59800/60000 [============================>.] - ETA: 0s - loss: 0.0230 - accuracy: 0.9925\n",
      "Epoch 00012: val_loss did not improve from 0.02700\n",
      "60000/60000 [==============================] - 64s 1ms/sample - loss: 0.0231 - accuracy: 0.9925 - val_loss: 0.0315 - val_accuracy: 0.9914\n",
      "Epoch 13/30\n",
      "59800/60000 [============================>.] - ETA: 0s - loss: 0.0210 - accuracy: 0.9933\n",
      "Epoch 00013: val_loss did not improve from 0.02700\n",
      "60000/60000 [==============================] - 64s 1ms/sample - loss: 0.0210 - accuracy: 0.9933 - val_loss: 0.0288 - val_accuracy: 0.9918\n",
      "Epoch 14/30\n",
      "59800/60000 [============================>.] - ETA: 0s - loss: 0.0206 - accuracy: 0.9930\n",
      "Epoch 00014: val_loss did not improve from 0.02700\n",
      "60000/60000 [==============================] - 64s 1ms/sample - loss: 0.0206 - accuracy: 0.9930 - val_loss: 0.0302 - val_accuracy: 0.9913\n",
      "Epoch 15/30\n",
      "59800/60000 [============================>.] - ETA: 0s - loss: 0.0195 - accuracy: 0.9933\n",
      "Epoch 00015: val_loss did not improve from 0.02700\n",
      "60000/60000 [==============================] - 64s 1ms/sample - loss: 0.0195 - accuracy: 0.9933 - val_loss: 0.0286 - val_accuracy: 0.9924\n",
      "Epoch 16/30\n",
      "59800/60000 [============================>.] - ETA: 0s - loss: 0.0192 - accuracy: 0.9938\n",
      "Epoch 00016: val_loss did not improve from 0.02700\n",
      "60000/60000 [==============================] - 64s 1ms/sample - loss: 0.0191 - accuracy: 0.9938 - val_loss: 0.0281 - val_accuracy: 0.9929\n",
      "Epoch 17/30\n",
      "59800/60000 [============================>.] - ETA: 0s - loss: 0.0179 - accuracy: 0.9936\n",
      "Epoch 00017: val_loss did not improve from 0.02700\n",
      "60000/60000 [==============================] - 65s 1ms/sample - loss: 0.0180 - accuracy: 0.9936 - val_loss: 0.0276 - val_accuracy: 0.9927\n",
      "Epoch 18/30\n",
      "59800/60000 [============================>.] - ETA: 0s - loss: 0.0174 - accuracy: 0.9941\n",
      "Epoch 00018: val_loss improved from 0.02700 to 0.02667, saving model to ./model/mnist-cnn-18-0.0267.hdf5\n",
      "60000/60000 [==============================] - 65s 1ms/sample - loss: 0.0175 - accuracy: 0.9940 - val_loss: 0.0267 - val_accuracy: 0.9929\n",
      "Epoch 19/30\n",
      "59800/60000 [============================>.] - ETA: 0s - loss: 0.0157 - accuracy: 0.9945\n",
      "Epoch 00019: val_loss did not improve from 0.02667\n",
      "60000/60000 [==============================] - 65s 1ms/sample - loss: 0.0157 - accuracy: 0.9946 - val_loss: 0.0284 - val_accuracy: 0.9929\n",
      "Epoch 20/30\n",
      "59800/60000 [============================>.] - ETA: 0s - loss: 0.0176 - accuracy: 0.9943\n",
      "Epoch 00020: val_loss did not improve from 0.02667\n",
      "60000/60000 [==============================] - 65s 1ms/sample - loss: 0.0176 - accuracy: 0.9943 - val_loss: 0.0288 - val_accuracy: 0.9927\n",
      "Epoch 21/30\n",
      "59800/60000 [============================>.] - ETA: 0s - loss: 0.0139 - accuracy: 0.9952\n",
      "Epoch 00021: val_loss did not improve from 0.02667\n",
      "60000/60000 [==============================] - 65s 1ms/sample - loss: 0.0139 - accuracy: 0.9952 - val_loss: 0.0290 - val_accuracy: 0.9928\n",
      "Epoch 22/30\n",
      "59800/60000 [============================>.] - ETA: 0s - loss: 0.0139 - accuracy: 0.9956\n",
      "Epoch 00022: val_loss did not improve from 0.02667\n",
      "60000/60000 [==============================] - 65s 1ms/sample - loss: 0.0140 - accuracy: 0.9955 - val_loss: 0.0285 - val_accuracy: 0.9923\n",
      "Epoch 23/30\n",
      "59800/60000 [============================>.] - ETA: 0s - loss: 0.0134 - accuracy: 0.9951\n",
      "Epoch 00023: val_loss did not improve from 0.02667\n",
      "60000/60000 [==============================] - 66s 1ms/sample - loss: 0.0134 - accuracy: 0.9952 - val_loss: 0.0316 - val_accuracy: 0.9929\n",
      "Epoch 24/30\n",
      "59800/60000 [============================>.] - ETA: 0s - loss: 0.0125 - accuracy: 0.9958\n",
      "Epoch 00024: val_loss did not improve from 0.02667\n",
      "60000/60000 [==============================] - 65s 1ms/sample - loss: 0.0125 - accuracy: 0.9958 - val_loss: 0.0348 - val_accuracy: 0.9919\n",
      "Epoch 25/30\n",
      "59800/60000 [============================>.] - ETA: 0s - loss: 0.0121 - accuracy: 0.9960\n",
      "Epoch 00025: val_loss did not improve from 0.02667\n",
      "60000/60000 [==============================] - 65s 1ms/sample - loss: 0.0121 - accuracy: 0.9960 - val_loss: 0.0309 - val_accuracy: 0.9927\n",
      "Epoch 26/30\n",
      "59800/60000 [============================>.] - ETA: 0s - loss: 0.0117 - accuracy: 0.9957\n",
      "Epoch 00026: val_loss did not improve from 0.02667\n",
      "60000/60000 [==============================] - 65s 1ms/sample - loss: 0.0118 - accuracy: 0.9957 - val_loss: 0.0328 - val_accuracy: 0.9927\n",
      "Epoch 27/30\n",
      "59800/60000 [============================>.] - ETA: 0s - loss: 0.0119 - accuracy: 0.9959\n",
      "Epoch 00027: val_loss did not improve from 0.02667\n",
      "60000/60000 [==============================] - 65s 1ms/sample - loss: 0.0119 - accuracy: 0.9959 - val_loss: 0.0319 - val_accuracy: 0.9938\n"
     ]
    },
    {
     "name": "stdout",
     "output_type": "stream",
     "text": [
      "Epoch 28/30\n",
      "59800/60000 [============================>.] - ETA: 0s - loss: 0.0106 - accuracy: 0.9964\n",
      "Epoch 00028: val_loss did not improve from 0.02667\n",
      "60000/60000 [==============================] - 64s 1ms/sample - loss: 0.0106 - accuracy: 0.9964 - val_loss: 0.0306 - val_accuracy: 0.9926\n"
     ]
    }
   ],
   "source": [
    "# 모델의 실행\n",
    "history = model.fit(X_train, Y_train, validation_data=(X_test, Y_test), epochs=30,\n",
    "                    batch_size=200, #epochs=5, verbose=2, \n",
    "                    callbacks=[early_stopping_callback, checkpointer])"
   ]
  },
  {
   "cell_type": "code",
   "execution_count": 17,
   "metadata": {},
   "outputs": [],
   "source": [
    "from tensorflow.keras.models import load_model\n",
    "del model\n",
    "model = load_model('model/mnist-cnn-18-0.0267.hdf5')"
   ]
  },
  {
   "cell_type": "code",
   "execution_count": 18,
   "metadata": {},
   "outputs": [
    {
     "name": "stdout",
     "output_type": "stream",
     "text": [
      "\n",
      " Test Accuracy: 0.9929\n"
     ]
    }
   ],
   "source": [
    "# 테스트 정확도 출력 \n",
    "print(\"\\n Test Accuracy: %.4f\" % (model.evaluate(X_test, Y_test, verbose=0)[1]))"
   ]
  },
  {
   "cell_type": "code",
   "execution_count": 19,
   "metadata": {},
   "outputs": [],
   "source": [
    "# 테스트셋의 오차\n",
    "y_vloss = history.history['val_loss']\n",
    "\n",
    "# 학습셋의 오차\n",
    "y_loss = history.history['loss']"
   ]
  },
  {
   "cell_type": "code",
   "execution_count": 20,
   "metadata": {},
   "outputs": [
    {
     "data": {
      "image/png": "[encoded data removed]",
      "text/plain": [
       "<Figure size 576x432 with 1 Axes>"
      ]
     },
     "metadata": {
      "needs_background": "light"
     },
     "output_type": "display_data"
    }
   ],
   "source": [
    "# 그래프로 표현\n",
    "x_len = np.arange(1, len(y_loss)+1)\n",
    "plt.figure(figsize=(8,6))\n",
    "plt.plot(x_len, y_vloss, marker='.', c=\"red\", label='Testset_loss')\n",
    "plt.plot(x_len, y_loss, marker='.', c=\"blue\", label='Trainset_loss')\n",
    "\n",
    "# 그래프에 그리드를 주고 레이블을 표시\n",
    "plt.legend(loc='upper right')\n",
    "# plt.axis([0, 20, 0, 0.35])\n",
    "plt.grid()\n",
    "plt.xlabel('epoch')\n",
    "plt.ylabel('loss')\n",
    "plt.show()"
   ]
  },
  {
   "cell_type": "markdown",
   "metadata": {},
   "source": [
    "#### 결론: Best Model은 Epoch 18, 정확도는 99.29%"
   ]
  },
  {
   "cell_type": "code",
   "execution_count": null,
   "metadata": {},
   "outputs": [],
   "source": []
  }
 ],
 "metadata": {
  "kernelspec": {
   "display_name": "Python 3",
   "language": "python",
   "name": "python3"
  },
  "language_info": {
   "codemirror_mode": {
    "name": "ipython",
    "version": 3
   },
   "file_extension": ".py",
   "mimetype": "text/x-python",
   "name": "python",
   "nbconvert_exporter": "python",
   "pygments_lexer": "ipython3",
   "version": "3.7.7"
  }
 },
 "nbformat": 4,
 "nbformat_minor": 2
}
