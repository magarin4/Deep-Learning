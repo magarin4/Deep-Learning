{
 "cells": [
  {
   "cell_type": "markdown",
   "metadata": {},
   "source": [
    "# 이미지 인식 - 딥 러닝\n",
    "## MNIST 사례"
   ]
  },
  {
   "cell_type": "code",
   "execution_count": 26,
   "metadata": {},
   "outputs": [],
   "source": [
    "import tensorflow as tf\n",
    "from tensorflow.keras.datasets import mnist"
   ]
  },
  {
   "cell_type": "code",
   "execution_count": 27,
   "metadata": {},
   "outputs": [],
   "source": [
    "(X_train, Y_class_train), (X_test, Y_class_test) = mnist.load_data()"
   ]
  },
  {
   "cell_type": "code",
   "execution_count": 28,
   "metadata": {},
   "outputs": [
    {
     "data": {
      "text/plain": [
       "((60000, 28, 28), (10000, 28, 28))"
      ]
     },
     "execution_count": 28,
     "metadata": {},
     "output_type": "execute_result"
    }
   ],
   "source": [
    "X_train.shape, X_test.shape"
   ]
  },
  {
   "cell_type": "code",
   "execution_count": 29,
   "metadata": {},
   "outputs": [
    {
     "data": {
      "image/png": "[encoded data removed]",
      "text/plain": [
       "<Figure size 432x288 with 1 Axes>"
      ]
     },
     "metadata": {
      "needs_background": "light"
     },
     "output_type": "display_data"
    }
   ],
   "source": [
    "import matplotlib.pyplot as plt\n",
    "%matplotlib inline\n",
    "plt.imshow(X_train[0], cmap='Greys')\n",
    "plt.show()"
   ]
  },
  {
   "cell_type": "code",
   "execution_count": 30,
   "metadata": {},
   "outputs": [
    {
     "name": "stdout",
     "output_type": "stream",
     "text": [
      "  0   0   0   0   0   0   0   0   0   0   0   0   0   0   0   0   0   0   0   0   0   0   0   0   0   0   0   0 \n",
      "  0   0   0   0   0   0   0   0   0   0   0   0   0   0   0   0   0   0   0   0   0   0   0   0   0   0   0   0 \n",
      "  0   0   0   0   0   0   0   0   0   0   0   0   0   0   0   0   0   0   0   0   0   0   0   0   0   0   0   0 \n",
      "  0   0   0   0   0   0   0   0   0   0   0   0   0   0   0   0   0   0   0   0   0   0   0   0   0   0   0   0 \n",
      "  0   0   0   0   0   0   0   0   0   0   0   0   0   0   0   0   0   0   0   0   0   0   0   0   0   0   0   0 \n",
      "  0   0   0   0   0   0   0   0   0   0   0   0   3  18  18  18 126 136 175  26 166 255 247 127   0   0   0   0 \n",
      "  0   0   0   0   0   0   0   0  30  36  94 154 170 253 253 253 253 253 225 172 253 242 195  64   0   0   0   0 \n",
      "  0   0   0   0   0   0   0  49 238 253 253 253 253 253 253 253 253 251  93  82  82  56  39   0   0   0   0   0 \n",
      "  0   0   0   0   0   0   0  18 219 253 253 253 253 253 198 182 247 241   0   0   0   0   0   0   0   0   0   0 \n",
      "  0   0   0   0   0   0   0   0  80 156 107 253 253 205  11   0  43 154   0   0   0   0   0   0   0   0   0   0 \n",
      "  0   0   0   0   0   0   0   0   0  14   1 154 253  90   0   0   0   0   0   0   0   0   0   0   0   0   0   0 \n",
      "  0   0   0   0   0   0   0   0   0   0   0 139 253 190   2   0   0   0   0   0   0   0   0   0   0   0   0   0 \n",
      "  0   0   0   0   0   0   0   0   0   0   0  11 190 253  70   0   0   0   0   0   0   0   0   0   0   0   0   0 \n",
      "  0   0   0   0   0   0   0   0   0   0   0   0  35 241 225 160 108   1   0   0   0   0   0   0   0   0   0   0 \n",
      "  0   0   0   0   0   0   0   0   0   0   0   0   0  81 240 253 253 119  25   0   0   0   0   0   0   0   0   0 \n",
      "  0   0   0   0   0   0   0   0   0   0   0   0   0   0  45 186 253 253 150  27   0   0   0   0   0   0   0   0 \n",
      "  0   0   0   0   0   0   0   0   0   0   0   0   0   0   0  16  93 252 253 187   0   0   0   0   0   0   0   0 \n",
      "  0   0   0   0   0   0   0   0   0   0   0   0   0   0   0   0   0 249 253 249  64   0   0   0   0   0   0   0 \n",
      "  0   0   0   0   0   0   0   0   0   0   0   0   0   0  46 130 183 253 253 207   2   0   0   0   0   0   0   0 \n",
      "  0   0   0   0   0   0   0   0   0   0   0   0  39 148 229 253 253 253 250 182   0   0   0   0   0   0   0   0 \n",
      "  0   0   0   0   0   0   0   0   0   0  24 114 221 253 253 253 253 201  78   0   0   0   0   0   0   0   0   0 \n",
      "  0   0   0   0   0   0   0   0  23  66 213 253 253 253 253 198  81   2   0   0   0   0   0   0   0   0   0   0 \n",
      "  0   0   0   0   0   0  18 171 219 253 253 253 253 195  80   9   0   0   0   0   0   0   0   0   0   0   0   0 \n",
      "  0   0   0   0  55 172 226 253 253 253 253 244 133  11   0   0   0   0   0   0   0   0   0   0   0   0   0   0 \n",
      "  0   0   0   0 136 253 253 253 212 135 132  16   0   0   0   0   0   0   0   0   0   0   0   0   0   0   0   0 \n",
      "  0   0   0   0   0   0   0   0   0   0   0   0   0   0   0   0   0   0   0   0   0   0   0   0   0   0   0   0 \n",
      "  0   0   0   0   0   0   0   0   0   0   0   0   0   0   0   0   0   0   0   0   0   0   0   0   0   0   0   0 \n",
      "  0   0   0   0   0   0   0   0   0   0   0   0   0   0   0   0   0   0   0   0   0   0   0   0   0   0   0   0 \n"
     ]
    }
   ],
   "source": [
    "import sys\n",
    "for x in X_train[0]:\n",
    "    for i in x:\n",
    "        sys.stdout.write('%3d ' % i)\n",
    "    sys.stdout.write('\\n')"
   ]
  },
  {
   "cell_type": "code",
   "execution_count": 48,
   "metadata": {},
   "outputs": [],
   "source": [
    "X_train = X_train.reshape(X_train.shape[0], 784)\n",
    "X_train = X_train.astype('float64')\n",
    "X_train = X_train / 255"
   ]
  },
  {
   "cell_type": "code",
   "execution_count": 50,
   "metadata": {},
   "outputs": [
    {
     "data": {
      "text/plain": [
       "(60000, 784)"
      ]
     },
     "execution_count": 50,
     "metadata": {},
     "output_type": "execute_result"
    }
   ],
   "source": [
    "X_train.shape"
   ]
  },
  {
   "cell_type": "code",
   "execution_count": 51,
   "metadata": {},
   "outputs": [],
   "source": [
    "X_test = X_test.reshape(X_test.shape[0], 784).astype('float64') / 255"
   ]
  },
  {
   "cell_type": "code",
   "execution_count": 52,
   "metadata": {},
   "outputs": [
    {
     "data": {
      "text/plain": [
       "5"
      ]
     },
     "execution_count": 52,
     "metadata": {},
     "output_type": "execute_result"
    }
   ],
   "source": [
    "Y_class_train[0]"
   ]
  },
  {
   "cell_type": "code",
   "execution_count": 63,
   "metadata": {},
   "outputs": [],
   "source": [
    "from tensorflow.keras.utils import to_categorical\n",
    "Y_train = to_categorical(Y_class_train, 10)\n",
    "Y_test = to_categorical(Y_class_test, 10)"
   ]
  },
  {
   "cell_type": "code",
   "execution_count": 64,
   "metadata": {},
   "outputs": [
    {
     "data": {
      "text/plain": [
       "array([0., 0., 0., 0., 0., 1., 0., 0., 0., 0.], dtype=float32)"
      ]
     },
     "execution_count": 64,
     "metadata": {},
     "output_type": "execute_result"
    }
   ],
   "source": [
    "Y_train[0]"
   ]
  },
  {
   "cell_type": "code",
   "execution_count": 65,
   "metadata": {},
   "outputs": [],
   "source": [
    "from tensorflow.keras.models import Sequential\n",
    "from tensorflow.keras.layers import Dense\n",
    "from tensorflow.keras.callbacks import ModelCheckpoint,EarlyStopping\n",
    "import numpy as np\n",
    "import os"
   ]
  },
  {
   "cell_type": "code",
   "execution_count": 66,
   "metadata": {},
   "outputs": [],
   "source": [
    "# seed 값 설정\n",
    "seed = 0\n",
    "np.random.seed(seed)\n",
    "tf.random.set_seed(seed)"
   ]
  },
  {
   "cell_type": "code",
   "execution_count": 74,
   "metadata": {},
   "outputs": [
    {
     "name": "stdout",
     "output_type": "stream",
     "text": [
      "Model: \"sequential_4\"\n",
      "_________________________________________________________________\n",
      "Layer (type)                 Output Shape              Param #   \n",
      "=================================================================\n",
      "dense_8 (Dense)              (None, 512)               401920    \n",
      "_________________________________________________________________\n",
      "dense_9 (Dense)              (None, 10)                5130      \n",
      "=================================================================\n",
      "Total params: 407,050\n",
      "Trainable params: 407,050\n",
      "Non-trainable params: 0\n",
      "_________________________________________________________________\n"
     ]
    }
   ],
   "source": [
    "# 모델 프레임 설정\n",
    "model = Sequential([\n",
    "    Dense(512, input_dim=784, activation='relu'),\n",
    "    Dense(10, activation='softmax')\n",
    "])\n",
    "model.summary()"
   ]
  },
  {
   "cell_type": "code",
   "execution_count": 75,
   "metadata": {},
   "outputs": [],
   "source": [
    "# 모델 실행 환경 설정 \n",
    "model.compile(loss='categorical_crossentropy',\n",
    "              optimizer='adam',\n",
    "              metrics=['accuracy'])"
   ]
  },
  {
   "cell_type": "code",
   "execution_count": 76,
   "metadata": {},
   "outputs": [],
   "source": [
    "# 모델 최적화 설정\n",
    "MODEL_DIR = './model/'\n",
    "if not os.path.exists(MODEL_DIR):\n",
    "    os.mkdir(MODEL_DIR)"
   ]
  },
  {
   "cell_type": "code",
   "execution_count": 77,
   "metadata": {},
   "outputs": [],
   "source": [
    "modelpath = MODEL_DIR + \"mnist{epoch:02d}-{val_loss:.4f}.hdf5\"\n",
    "checkpointer = ModelCheckpoint(filepath=modelpath, monitor='val_loss', \n",
    "                               verbose=1, save_best_only=True)\n",
    "early_stopping_callback = EarlyStopping(monitor='val_loss', patience=10)"
   ]
  },
  {
   "cell_type": "code",
   "execution_count": 78,
   "metadata": {},
   "outputs": [
    {
     "name": "stdout",
     "output_type": "stream",
     "text": [
      "\n",
      "Epoch 00001: val_loss improved from inf to 1.15874, saving model to ./model/mnist01-1.1587.hdf5\n",
      "\n",
      "Epoch 00002: val_loss improved from 1.15874 to 0.64851, saving model to ./model/mnist02-0.6485.hdf5\n",
      "\n",
      "Epoch 00003: val_loss improved from 0.64851 to 0.47832, saving model to ./model/mnist03-0.4783.hdf5\n",
      "\n",
      "Epoch 00004: val_loss improved from 0.47832 to 0.40220, saving model to ./model/mnist04-0.4022.hdf5\n",
      "\n",
      "Epoch 00005: val_loss improved from 0.40220 to 0.36084, saving model to ./model/mnist05-0.3608.hdf5\n",
      "\n",
      "Epoch 00006: val_loss improved from 0.36084 to 0.33518, saving model to ./model/mnist06-0.3352.hdf5\n",
      "\n",
      "Epoch 00007: val_loss improved from 0.33518 to 0.31799, saving model to ./model/mnist07-0.3180.hdf5\n",
      "\n",
      "Epoch 00008: val_loss improved from 0.31799 to 0.30417, saving model to ./model/mnist08-0.3042.hdf5\n",
      "\n",
      "Epoch 00009: val_loss improved from 0.30417 to 0.29440, saving model to ./model/mnist09-0.2944.hdf5\n",
      "\n",
      "Epoch 00010: val_loss improved from 0.29440 to 0.28474, saving model to ./model/mnist10-0.2847.hdf5\n",
      "\n",
      "Epoch 00011: val_loss improved from 0.28474 to 0.27891, saving model to ./model/mnist11-0.2789.hdf5\n",
      "\n",
      "Epoch 00012: val_loss improved from 0.27891 to 0.27271, saving model to ./model/mnist12-0.2727.hdf5\n",
      "\n",
      "Epoch 00013: val_loss improved from 0.27271 to 0.26574, saving model to ./model/mnist13-0.2657.hdf5\n",
      "\n",
      "Epoch 00014: val_loss improved from 0.26574 to 0.25959, saving model to ./model/mnist14-0.2596.hdf5\n",
      "\n",
      "Epoch 00015: val_loss improved from 0.25959 to 0.25349, saving model to ./model/mnist15-0.2535.hdf5\n",
      "\n",
      "Epoch 00016: val_loss improved from 0.25349 to 0.24822, saving model to ./model/mnist16-0.2482.hdf5\n",
      "\n",
      "Epoch 00017: val_loss improved from 0.24822 to 0.24238, saving model to ./model/mnist17-0.2424.hdf5\n",
      "\n",
      "Epoch 00018: val_loss improved from 0.24238 to 0.23991, saving model to ./model/mnist18-0.2399.hdf5\n",
      "\n",
      "Epoch 00019: val_loss improved from 0.23991 to 0.23375, saving model to ./model/mnist19-0.2337.hdf5\n",
      "\n",
      "Epoch 00020: val_loss improved from 0.23375 to 0.22846, saving model to ./model/mnist20-0.2285.hdf5\n",
      "\n",
      "Epoch 00021: val_loss improved from 0.22846 to 0.22408, saving model to ./model/mnist21-0.2241.hdf5\n",
      "\n",
      "Epoch 00022: val_loss improved from 0.22408 to 0.21811, saving model to ./model/mnist22-0.2181.hdf5\n",
      "\n",
      "Epoch 00023: val_loss improved from 0.21811 to 0.21502, saving model to ./model/mnist23-0.2150.hdf5\n",
      "\n",
      "Epoch 00024: val_loss improved from 0.21502 to 0.20941, saving model to ./model/mnist24-0.2094.hdf5\n",
      "\n",
      "Epoch 00025: val_loss improved from 0.20941 to 0.20488, saving model to ./model/mnist25-0.2049.hdf5\n",
      "\n",
      "Epoch 00026: val_loss improved from 0.20488 to 0.20070, saving model to ./model/mnist26-0.2007.hdf5\n",
      "\n",
      "Epoch 00027: val_loss improved from 0.20070 to 0.19670, saving model to ./model/mnist27-0.1967.hdf5\n",
      "\n",
      "Epoch 00028: val_loss improved from 0.19670 to 0.19258, saving model to ./model/mnist28-0.1926.hdf5\n",
      "\n",
      "Epoch 00029: val_loss improved from 0.19258 to 0.18928, saving model to ./model/mnist29-0.1893.hdf5\n",
      "\n",
      "Epoch 00030: val_loss improved from 0.18928 to 0.18594, saving model to ./model/mnist30-0.1859.hdf5\n",
      "\n",
      "Epoch 00031: val_loss improved from 0.18594 to 0.18116, saving model to ./model/mnist31-0.1812.hdf5\n",
      "\n",
      "Epoch 00032: val_loss improved from 0.18116 to 0.17807, saving model to ./model/mnist32-0.1781.hdf5\n",
      "\n",
      "Epoch 00033: val_loss improved from 0.17807 to 0.17669, saving model to ./model/mnist33-0.1767.hdf5\n",
      "\n",
      "Epoch 00034: val_loss improved from 0.17669 to 0.17226, saving model to ./model/mnist34-0.1723.hdf5\n",
      "\n",
      "Epoch 00035: val_loss improved from 0.17226 to 0.16930, saving model to ./model/mnist35-0.1693.hdf5\n",
      "\n",
      "Epoch 00036: val_loss improved from 0.16930 to 0.16590, saving model to ./model/mnist36-0.1659.hdf5\n",
      "\n",
      "Epoch 00037: val_loss improved from 0.16590 to 0.16216, saving model to ./model/mnist37-0.1622.hdf5\n",
      "\n",
      "Epoch 00038: val_loss improved from 0.16216 to 0.15980, saving model to ./model/mnist38-0.1598.hdf5\n",
      "\n",
      "Epoch 00039: val_loss improved from 0.15980 to 0.15904, saving model to ./model/mnist39-0.1590.hdf5\n",
      "\n",
      "Epoch 00040: val_loss improved from 0.15904 to 0.15483, saving model to ./model/mnist40-0.1548.hdf5\n",
      "\n",
      "Epoch 00041: val_loss improved from 0.15483 to 0.15354, saving model to ./model/mnist41-0.1535.hdf5\n",
      "\n",
      "Epoch 00042: val_loss improved from 0.15354 to 0.14983, saving model to ./model/mnist42-0.1498.hdf5\n",
      "\n",
      "Epoch 00043: val_loss improved from 0.14983 to 0.14809, saving model to ./model/mnist43-0.1481.hdf5\n",
      "\n",
      "Epoch 00044: val_loss improved from 0.14809 to 0.14670, saving model to ./model/mnist44-0.1467.hdf5\n",
      "\n",
      "Epoch 00045: val_loss improved from 0.14670 to 0.14475, saving model to ./model/mnist45-0.1448.hdf5\n",
      "\n",
      "Epoch 00046: val_loss improved from 0.14475 to 0.14122, saving model to ./model/mnist46-0.1412.hdf5\n",
      "\n",
      "Epoch 00047: val_loss improved from 0.14122 to 0.13951, saving model to ./model/mnist47-0.1395.hdf5\n",
      "\n",
      "Epoch 00048: val_loss improved from 0.13951 to 0.13756, saving model to ./model/mnist48-0.1376.hdf5\n",
      "\n",
      "Epoch 00049: val_loss improved from 0.13756 to 0.13709, saving model to ./model/mnist49-0.1371.hdf5\n",
      "\n",
      "Epoch 00050: val_loss improved from 0.13709 to 0.13592, saving model to ./model/mnist50-0.1359.hdf5\n",
      "\n",
      "Epoch 00051: val_loss improved from 0.13592 to 0.13320, saving model to ./model/mnist51-0.1332.hdf5\n",
      "\n",
      "Epoch 00052: val_loss improved from 0.13320 to 0.13174, saving model to ./model/mnist52-0.1317.hdf5\n",
      "\n",
      "Epoch 00053: val_loss improved from 0.13174 to 0.13073, saving model to ./model/mnist53-0.1307.hdf5\n",
      "\n",
      "Epoch 00054: val_loss improved from 0.13073 to 0.12850, saving model to ./model/mnist54-0.1285.hdf5\n",
      "\n",
      "Epoch 00055: val_loss improved from 0.12850 to 0.12726, saving model to ./model/mnist55-0.1273.hdf5\n",
      "\n",
      "Epoch 00056: val_loss improved from 0.12726 to 0.12517, saving model to ./model/mnist56-0.1252.hdf5\n",
      "\n",
      "Epoch 00057: val_loss improved from 0.12517 to 0.12370, saving model to ./model/mnist57-0.1237.hdf5\n",
      "\n",
      "Epoch 00058: val_loss improved from 0.12370 to 0.12253, saving model to ./model/mnist58-0.1225.hdf5\n",
      "\n",
      "Epoch 00059: val_loss improved from 0.12253 to 0.12098, saving model to ./model/mnist59-0.1210.hdf5\n",
      "\n",
      "Epoch 00060: val_loss did not improve from 0.12098\n",
      "\n",
      "Epoch 00061: val_loss improved from 0.12098 to 0.11768, saving model to ./model/mnist61-0.1177.hdf5\n",
      "\n",
      "Epoch 00062: val_loss improved from 0.11768 to 0.11746, saving model to ./model/mnist62-0.1175.hdf5\n",
      "\n",
      "Epoch 00063: val_loss improved from 0.11746 to 0.11651, saving model to ./model/mnist63-0.1165.hdf5\n",
      "\n",
      "Epoch 00064: val_loss improved from 0.11651 to 0.11475, saving model to ./model/mnist64-0.1147.hdf5\n",
      "\n",
      "Epoch 00065: val_loss improved from 0.11475 to 0.11255, saving model to ./model/mnist65-0.1125.hdf5\n",
      "\n",
      "Epoch 00066: val_loss improved from 0.11255 to 0.11180, saving model to ./model/mnist66-0.1118.hdf5\n",
      "\n",
      "Epoch 00067: val_loss did not improve from 0.11180\n",
      "\n",
      "Epoch 00068: val_loss improved from 0.11180 to 0.11070, saving model to ./model/mnist68-0.1107.hdf5\n",
      "\n",
      "Epoch 00069: val_loss did not improve from 0.11070\n",
      "\n",
      "Epoch 00070: val_loss improved from 0.11070 to 0.10964, saving model to ./model/mnist70-0.1096.hdf5\n",
      "\n",
      "Epoch 00071: val_loss improved from 0.10964 to 0.10708, saving model to ./model/mnist71-0.1071.hdf5\n",
      "\n",
      "Epoch 00072: val_loss improved from 0.10708 to 0.10679, saving model to ./model/mnist72-0.1068.hdf5\n",
      "\n",
      "Epoch 00073: val_loss improved from 0.10679 to 0.10592, saving model to ./model/mnist73-0.1059.hdf5\n",
      "\n",
      "Epoch 00074: val_loss improved from 0.10592 to 0.10515, saving model to ./model/mnist74-0.1051.hdf5\n",
      "\n",
      "Epoch 00075: val_loss did not improve from 0.10515\n",
      "\n",
      "Epoch 00076: val_loss improved from 0.10515 to 0.10339, saving model to ./model/mnist76-0.1034.hdf5\n",
      "\n",
      "Epoch 00077: val_loss improved from 0.10339 to 0.10272, saving model to ./model/mnist77-0.1027.hdf5\n",
      "\n",
      "Epoch 00078: val_loss improved from 0.10272 to 0.10180, saving model to ./model/mnist78-0.1018.hdf5\n",
      "\n",
      "Epoch 00079: val_loss improved from 0.10180 to 0.10136, saving model to ./model/mnist79-0.1014.hdf5\n",
      "\n",
      "Epoch 00080: val_loss improved from 0.10136 to 0.10061, saving model to ./model/mnist80-0.1006.hdf5\n",
      "\n",
      "Epoch 00081: val_loss improved from 0.10061 to 0.09954, saving model to ./model/mnist81-0.0995.hdf5\n",
      "\n",
      "Epoch 00082: val_loss did not improve from 0.09954\n",
      "\n",
      "Epoch 00083: val_loss improved from 0.09954 to 0.09865, saving model to ./model/mnist83-0.0987.hdf5\n",
      "\n",
      "Epoch 00084: val_loss did not improve from 0.09865\n",
      "\n",
      "Epoch 00085: val_loss improved from 0.09865 to 0.09729, saving model to ./model/mnist85-0.0973.hdf5\n"
     ]
    },
    {
     "name": "stdout",
     "output_type": "stream",
     "text": [
      "\n",
      "Epoch 00086: val_loss did not improve from 0.09729\n",
      "\n",
      "Epoch 00087: val_loss improved from 0.09729 to 0.09711, saving model to ./model/mnist87-0.0971.hdf5\n",
      "\n",
      "Epoch 00088: val_loss improved from 0.09711 to 0.09588, saving model to ./model/mnist88-0.0959.hdf5\n",
      "\n",
      "Epoch 00089: val_loss did not improve from 0.09588\n",
      "\n",
      "Epoch 00090: val_loss improved from 0.09588 to 0.09506, saving model to ./model/mnist90-0.0951.hdf5\n",
      "\n",
      "Epoch 00091: val_loss improved from 0.09506 to 0.09448, saving model to ./model/mnist91-0.0945.hdf5\n",
      "\n",
      "Epoch 00092: val_loss improved from 0.09448 to 0.09337, saving model to ./model/mnist92-0.0934.hdf5\n",
      "\n",
      "Epoch 00093: val_loss did not improve from 0.09337\n",
      "\n",
      "Epoch 00094: val_loss improved from 0.09337 to 0.09273, saving model to ./model/mnist94-0.0927.hdf5\n",
      "\n",
      "Epoch 00095: val_loss improved from 0.09273 to 0.09164, saving model to ./model/mnist95-0.0916.hdf5\n",
      "\n",
      "Epoch 00096: val_loss did not improve from 0.09164\n",
      "\n",
      "Epoch 00097: val_loss improved from 0.09164 to 0.09101, saving model to ./model/mnist97-0.0910.hdf5\n",
      "\n",
      "Epoch 00098: val_loss did not improve from 0.09101\n",
      "\n",
      "Epoch 00099: val_loss improved from 0.09101 to 0.09082, saving model to ./model/mnist99-0.0908.hdf5\n",
      "\n",
      "Epoch 00100: val_loss improved from 0.09082 to 0.09028, saving model to ./model/mnist100-0.0903.hdf5\n",
      "\n",
      "Epoch 00101: val_loss improved from 0.09028 to 0.08940, saving model to ./model/mnist101-0.0894.hdf5\n",
      "\n",
      "Epoch 00102: val_loss did not improve from 0.08940\n",
      "\n",
      "Epoch 00103: val_loss improved from 0.08940 to 0.08823, saving model to ./model/mnist103-0.0882.hdf5\n",
      "\n",
      "Epoch 00104: val_loss did not improve from 0.08823\n",
      "\n",
      "Epoch 00105: val_loss did not improve from 0.08823\n",
      "\n",
      "Epoch 00106: val_loss did not improve from 0.08823\n",
      "\n",
      "Epoch 00107: val_loss did not improve from 0.08823\n",
      "\n",
      "Epoch 00108: val_loss improved from 0.08823 to 0.08746, saving model to ./model/mnist108-0.0875.hdf5\n",
      "\n",
      "Epoch 00109: val_loss improved from 0.08746 to 0.08695, saving model to ./model/mnist109-0.0869.hdf5\n",
      "\n",
      "Epoch 00110: val_loss did not improve from 0.08695\n",
      "\n",
      "Epoch 00111: val_loss improved from 0.08695 to 0.08661, saving model to ./model/mnist111-0.0866.hdf5\n",
      "\n",
      "Epoch 00112: val_loss improved from 0.08661 to 0.08594, saving model to ./model/mnist112-0.0859.hdf5\n",
      "\n",
      "Epoch 00113: val_loss did not improve from 0.08594\n",
      "\n",
      "Epoch 00114: val_loss did not improve from 0.08594\n",
      "\n",
      "Epoch 00115: val_loss did not improve from 0.08594\n",
      "\n",
      "Epoch 00116: val_loss improved from 0.08594 to 0.08541, saving model to ./model/mnist116-0.0854.hdf5\n",
      "\n",
      "Epoch 00117: val_loss improved from 0.08541 to 0.08458, saving model to ./model/mnist117-0.0846.hdf5\n",
      "\n",
      "Epoch 00118: val_loss did not improve from 0.08458\n",
      "\n",
      "Epoch 00119: val_loss did not improve from 0.08458\n",
      "\n",
      "Epoch 00120: val_loss did not improve from 0.08458\n",
      "\n",
      "Epoch 00121: val_loss improved from 0.08458 to 0.08411, saving model to ./model/mnist121-0.0841.hdf5\n",
      "\n",
      "Epoch 00122: val_loss did not improve from 0.08411\n",
      "\n",
      "Epoch 00123: val_loss did not improve from 0.08411\n",
      "\n",
      "Epoch 00124: val_loss improved from 0.08411 to 0.08286, saving model to ./model/mnist124-0.0829.hdf5\n",
      "\n",
      "Epoch 00125: val_loss did not improve from 0.08286\n",
      "\n",
      "Epoch 00126: val_loss did not improve from 0.08286\n",
      "\n",
      "Epoch 00127: val_loss did not improve from 0.08286\n",
      "\n",
      "Epoch 00128: val_loss did not improve from 0.08286\n",
      "\n",
      "Epoch 00129: val_loss improved from 0.08286 to 0.08270, saving model to ./model/mnist129-0.0827.hdf5\n",
      "\n",
      "Epoch 00130: val_loss did not improve from 0.08270\n",
      "\n",
      "Epoch 00131: val_loss improved from 0.08270 to 0.08238, saving model to ./model/mnist131-0.0824.hdf5\n",
      "\n",
      "Epoch 00132: val_loss improved from 0.08238 to 0.08211, saving model to ./model/mnist132-0.0821.hdf5\n",
      "\n",
      "Epoch 00133: val_loss improved from 0.08211 to 0.08209, saving model to ./model/mnist133-0.0821.hdf5\n",
      "\n",
      "Epoch 00134: val_loss improved from 0.08209 to 0.08177, saving model to ./model/mnist134-0.0818.hdf5\n",
      "\n",
      "Epoch 00135: val_loss did not improve from 0.08177\n",
      "\n",
      "Epoch 00136: val_loss improved from 0.08177 to 0.08147, saving model to ./model/mnist136-0.0815.hdf5\n",
      "\n",
      "Epoch 00137: val_loss did not improve from 0.08147\n",
      "\n",
      "Epoch 00138: val_loss did not improve from 0.08147\n",
      "\n",
      "Epoch 00139: val_loss did not improve from 0.08147\n",
      "\n",
      "Epoch 00140: val_loss did not improve from 0.08147\n",
      "\n",
      "Epoch 00141: val_loss improved from 0.08147 to 0.08136, saving model to ./model/mnist141-0.0814.hdf5\n",
      "\n",
      "Epoch 00142: val_loss improved from 0.08136 to 0.08085, saving model to ./model/mnist142-0.0808.hdf5\n",
      "\n",
      "Epoch 00143: val_loss did not improve from 0.08085\n",
      "\n",
      "Epoch 00144: val_loss did not improve from 0.08085\n",
      "\n",
      "Epoch 00145: val_loss did not improve from 0.08085\n",
      "\n",
      "Epoch 00146: val_loss did not improve from 0.08085\n",
      "\n",
      "Epoch 00147: val_loss did not improve from 0.08085\n",
      "\n",
      "Epoch 00148: val_loss improved from 0.08085 to 0.08081, saving model to ./model/mnist148-0.0808.hdf5\n",
      "\n",
      "Epoch 00149: val_loss did not improve from 0.08081\n",
      "\n",
      "Epoch 00150: val_loss did not improve from 0.08081\n",
      "\n",
      "Epoch 00151: val_loss did not improve from 0.08081\n",
      "\n",
      "Epoch 00152: val_loss did not improve from 0.08081\n",
      "\n",
      "Epoch 00153: val_loss did not improve from 0.08081\n",
      "\n",
      "Epoch 00154: val_loss improved from 0.08081 to 0.08058, saving model to ./model/mnist154-0.0806.hdf5\n",
      "\n",
      "Epoch 00155: val_loss did not improve from 0.08058\n",
      "\n",
      "Epoch 00156: val_loss did not improve from 0.08058\n",
      "\n",
      "Epoch 00157: val_loss did not improve from 0.08058\n",
      "\n",
      "Epoch 00158: val_loss did not improve from 0.08058\n",
      "\n",
      "Epoch 00159: val_loss did not improve from 0.08058\n",
      "\n",
      "Epoch 00160: val_loss did not improve from 0.08058\n",
      "\n",
      "Epoch 00161: val_loss did not improve from 0.08058\n",
      "\n",
      "Epoch 00162: val_loss improved from 0.08058 to 0.08052, saving model to ./model/mnist162-0.0805.hdf5\n",
      "\n",
      "Epoch 00163: val_loss did not improve from 0.08052\n",
      "\n",
      "Epoch 00164: val_loss did not improve from 0.08052\n",
      "\n",
      "Epoch 00165: val_loss did not improve from 0.08052\n",
      "\n",
      "Epoch 00166: val_loss improved from 0.08052 to 0.08030, saving model to ./model/mnist166-0.0803.hdf5\n",
      "\n",
      "Epoch 00167: val_loss did not improve from 0.08030\n",
      "\n",
      "Epoch 00168: val_loss did not improve from 0.08030\n",
      "\n",
      "Epoch 00169: val_loss did not improve from 0.08030\n",
      "\n",
      "Epoch 00170: val_loss did not improve from 0.08030\n",
      "\n",
      "Epoch 00171: val_loss did not improve from 0.08030\n",
      "\n",
      "Epoch 00172: val_loss did not improve from 0.08030\n",
      "\n",
      "Epoch 00173: val_loss did not improve from 0.08030\n",
      "\n",
      "Epoch 00174: val_loss did not improve from 0.08030\n",
      "\n",
      "Epoch 00175: val_loss did not improve from 0.08030\n",
      "\n",
      "Epoch 00176: val_loss did not improve from 0.08030\n"
     ]
    }
   ],
   "source": [
    "# 모델의 실행\n",
    "history = model.fit(X_train, Y_train, validation_split=0.2, \n",
    "                    epochs=500, batch_size=200, verbose=0, \n",
    "                    callbacks=[early_stopping_callback, checkpointer])\n",
    "\n",
    "#history = model.fit(X_train, Y_train, validation_data=(X_test, Y_test), \n",
    "#                    epochs=30, batch_size=200, verbose=0, \n",
    "#                    callbacks=[early_stopping_callback, checkpointer])"
   ]
  },
  {
   "cell_type": "code",
   "execution_count": 72,
   "metadata": {},
   "outputs": [],
   "source": [
    "from tensorflow.keras.models import load_model\n",
    "del model\n",
    "model = load_model('./model/mnist100-0.0888.hdf5')"
   ]
  },
  {
   "cell_type": "code",
   "execution_count": 73,
   "metadata": {},
   "outputs": [
    {
     "name": "stdout",
     "output_type": "stream",
     "text": [
      "10000/10000 - 0s - loss: 0.0852 - accuracy: 0.9729\n",
      "\n",
      " Test Accuracy: 0.9729\n"
     ]
    }
   ],
   "source": [
    "# 테스트 정확도 출력 \n",
    "print(\"\\n Test Accuracy: %.4f\" % (model.evaluate(X_test, Y_test, verbose=2)[1]))"
   ]
  },
  {
   "cell_type": "code",
   "execution_count": 46,
   "metadata": {},
   "outputs": [],
   "source": [
    "# 테스트셋의 오차\n",
    "y_vloss = history.history['val_loss']\n",
    "\n",
    "# 학습셋의 오차\n",
    "y_loss = history.history['loss']"
   ]
  },
  {
   "cell_type": "code",
   "execution_count": 47,
   "metadata": {},
   "outputs": [
    {
     "data": {
      "image/png": "[encoded data removed]",
      "text/plain": [
       "<Figure size 576x432 with 1 Axes>"
      ]
     },
     "metadata": {
      "needs_background": "light"
     },
     "output_type": "display_data"
    }
   ],
   "source": [
    "# 그래프로 표현\n",
    "x_len = np.arange(1, len(y_loss)+1)\n",
    "plt.figure(figsize=(8,6))\n",
    "plt.plot(x_len, y_vloss, marker='.', c=\"red\", label='Testset_loss')\n",
    "plt.plot(x_len, y_loss, marker='.', c=\"blue\", label='Trainset_loss')\n",
    "\n",
    "# 그래프에 그리드를 주고 레이블을 표시\n",
    "plt.legend(loc='upper right')\n",
    "#plt.axis([0, 20, 0, 0.35])\n",
    "plt.grid()\n",
    "plt.xlabel('epoch')\n",
    "plt.ylabel('loss')\n",
    "plt.show()"
   ]
  },
  {
   "cell_type": "markdown",
   "metadata": {},
   "source": [
    "#### 결론: Best Model은 Epoch 12, 정확도는 98.15%"
   ]
  },
  {
   "cell_type": "code",
   "execution_count": null,
   "metadata": {},
   "outputs": [],
   "source": []
  }
 ],
 "metadata": {
  "kernelspec": {
   "display_name": "Python 3",
   "language": "python",
   "name": "python3"
  },
  "language_info": {
   "codemirror_mode": {
    "name": "ipython",
    "version": 3
   },
   "file_extension": ".py",
   "mimetype": "text/x-python",
   "name": "python",
   "nbconvert_exporter": "python",
   "pygments_lexer": "ipython3",
   "version": "3.7.7"
  }
 },
 "nbformat": 4,
 "nbformat_minor": 2
}
