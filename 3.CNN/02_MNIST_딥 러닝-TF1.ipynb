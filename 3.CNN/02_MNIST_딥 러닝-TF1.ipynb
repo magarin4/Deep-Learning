{
 "cells": [
  {
   "cell_type": "markdown",
   "metadata": {},
   "source": [
    "# 이미지 인식 - 딥 러닝\n",
    "## MNIST 사례"
   ]
  },
  {
   "cell_type": "code",
   "execution_count": 1,
   "metadata": {},
   "outputs": [
    {
     "name": "stdout",
     "output_type": "stream",
     "text": [
      "WARNING:tensorflow:From C:\\Users\\EZEN\\Anaconda3\\lib\\site-packages\\tensorflow_core\\python\\compat\\v2_compat.py:65: disable_resource_variables (from tensorflow.python.ops.variable_scope) is deprecated and will be removed in a future version.\n",
      "Instructions for updating:\n",
      "non-resource variables are not supported in the long term\n"
     ]
    }
   ],
   "source": [
    "import tensorflow.compat.v1 as tf\n",
    "tf.disable_v2_behavior()"
   ]
  },
  {
   "cell_type": "code",
   "execution_count": 2,
   "metadata": {},
   "outputs": [],
   "source": [
    "(X_train, Y_class_train), (X_test, Y_class_test) = tf.keras.datasets.mnist.load_data()"
   ]
  },
  {
   "cell_type": "code",
   "execution_count": 3,
   "metadata": {},
   "outputs": [
    {
     "data": {
      "text/plain": [
       "((60000, 28, 28), (10000, 28, 28))"
      ]
     },
     "execution_count": 3,
     "metadata": {},
     "output_type": "execute_result"
    }
   ],
   "source": [
    "X_train.shape, X_test.shape"
   ]
  },
  {
   "cell_type": "code",
   "execution_count": 4,
   "metadata": {},
   "outputs": [
    {
     "data": {
      "image/png": "[encoded data removed]",
      "text/plain": [
       "<Figure size 432x288 with 1 Axes>"
      ]
     },
     "metadata": {
      "needs_background": "light"
     },
     "output_type": "display_data"
    }
   ],
   "source": [
    "import matplotlib.pyplot as plt\n",
    "%matplotlib inline\n",
    "plt.imshow(X_train[0], cmap='Greys')\n",
    "plt.show()"
   ]
  },
  {
   "cell_type": "code",
   "execution_count": 5,
   "metadata": {},
   "outputs": [],
   "source": [
    "X_train = X_train.reshape(X_train.shape[0], 784)\n",
    "X_train = X_train.astype('float32')\n",
    "X_train = X_train / 255"
   ]
  },
  {
   "cell_type": "code",
   "execution_count": 6,
   "metadata": {},
   "outputs": [
    {
     "data": {
      "text/plain": [
       "(60000, 784)"
      ]
     },
     "execution_count": 6,
     "metadata": {},
     "output_type": "execute_result"
    }
   ],
   "source": [
    "X_train.shape"
   ]
  },
  {
   "cell_type": "code",
   "execution_count": 7,
   "metadata": {},
   "outputs": [],
   "source": [
    "X_test = X_test.reshape(X_test.shape[0], 784).astype('float32') / 255"
   ]
  },
  {
   "cell_type": "code",
   "execution_count": 8,
   "metadata": {},
   "outputs": [
    {
     "data": {
      "text/plain": [
       "5"
      ]
     },
     "execution_count": 8,
     "metadata": {},
     "output_type": "execute_result"
    }
   ],
   "source": [
    "Y_class_train[0]"
   ]
  },
  {
   "cell_type": "code",
   "execution_count": 9,
   "metadata": {},
   "outputs": [],
   "source": [
    "Y_train = tf.keras.utils.to_categorical(Y_class_train,10)\n",
    "Y_test = tf.keras.utils.to_categorical(Y_class_test,10)"
   ]
  },
  {
   "cell_type": "code",
   "execution_count": 10,
   "metadata": {},
   "outputs": [
    {
     "data": {
      "text/plain": [
       "array([0., 0., 0., 0., 0., 1., 0., 0., 0., 0.], dtype=float32)"
      ]
     },
     "execution_count": 10,
     "metadata": {},
     "output_type": "execute_result"
    }
   ],
   "source": [
    "Y_train[0]"
   ]
  },
  {
   "cell_type": "code",
   "execution_count": 11,
   "metadata": {},
   "outputs": [],
   "source": [
    "# seed 값 설정\n",
    "seed = 0\n",
    "tf.set_random_seed(seed)"
   ]
  },
  {
   "cell_type": "code",
   "execution_count": 12,
   "metadata": {},
   "outputs": [],
   "source": [
    "# 입력 값을 플레이스 홀더에 저장\n",
    "X = tf.placeholder(tf.float32, shape=[None, 784])\n",
    "Y = tf.placeholder(tf.float32, shape=[None, 10])"
   ]
  },
  {
   "cell_type": "code",
   "execution_count": 13,
   "metadata": {},
   "outputs": [],
   "source": [
    "# Layer 1\n",
    "W1 = tf.Variable(tf.random_normal([784,512], dtype=tf.float32)) \n",
    "b1 = tf.Variable(tf.random_normal([512], dtype=tf.float32))\n",
    "L1 = tf.nn.relu(tf.matmul(X, W1) + b1)"
   ]
  },
  {
   "cell_type": "markdown",
   "metadata": {},
   "source": [
    "### 아래와 같은 방법으로 하면 nan이 나옴"
   ]
  },
  {
   "cell_type": "code",
   "execution_count": 13,
   "metadata": {},
   "outputs": [],
   "source": [
    "# Layer 2\n",
    "W2 = tf.Variable(tf.random_normal([512,10], dtype=tf.float32)) \n",
    "b2 = tf.Variable(tf.random_normal([10], dtype=tf.float32))\n",
    "hypo = tf.nn.softmax(tf.matmul(L1, W2) + b2)\n",
    "#hypo = tf.matmul(L1, W2) + b2"
   ]
  },
  {
   "cell_type": "code",
   "execution_count": 14,
   "metadata": {},
   "outputs": [],
   "source": [
    "# Categorical Cross Entropy\n",
    "cost = tf.reduce_mean(-tf.reduce_sum(Y * tf.log(hypo), reduction_indices=[1]))\n",
    "#cost = tf.reduce_mean(tf.nn.softmax_cross_entropy_with_logits(logits=hypo, labels=Y))"
   ]
  },
  {
   "cell_type": "markdown",
   "metadata": {},
   "source": [
    "### nan 이 안나오게 하는 방법"
   ]
  },
  {
   "cell_type": "code",
   "execution_count": 14,
   "metadata": {},
   "outputs": [],
   "source": [
    "# Layer 2\n",
    "W2 = tf.Variable(tf.random_normal([512,10], dtype=tf.float32)) \n",
    "b2 = tf.Variable(tf.random_normal([10], dtype=tf.float32))\n",
    "#hypo = tf.nn.softmax(tf.matmul(L1, W2) + b2)\n",
    "hypo = tf.matmul(L1, W2) + b2"
   ]
  },
  {
   "cell_type": "code",
   "execution_count": 15,
   "metadata": {},
   "outputs": [
    {
     "name": "stdout",
     "output_type": "stream",
     "text": [
      "WARNING:tensorflow:From <ipython-input-15-47208daa0dcd>:3: softmax_cross_entropy_with_logits (from tensorflow.python.ops.nn_ops) is deprecated and will be removed in a future version.\n",
      "Instructions for updating:\n",
      "\n",
      "Future major versions of TensorFlow will allow gradients to flow\n",
      "into the labels input on backprop by default.\n",
      "\n",
      "See `tf.nn.softmax_cross_entropy_with_logits_v2`.\n",
      "\n"
     ]
    }
   ],
   "source": [
    "# Categorical Cross Entropy\n",
    "#cost = tf.reduce_mean(-tf.reduce_sum(Y * tf.log(hypo), reduction_indices=[1]))\n",
    "cost = tf.reduce_mean(tf.nn.softmax_cross_entropy_with_logits(logits=hypo, labels=Y))"
   ]
  },
  {
   "cell_type": "code",
   "execution_count": 16,
   "metadata": {},
   "outputs": [],
   "source": [
    "lr = 0.1\n",
    "train = tf.train.AdamOptimizer(learning_rate=lr).minimize(cost)"
   ]
  },
  {
   "cell_type": "code",
   "execution_count": 17,
   "metadata": {},
   "outputs": [],
   "source": [
    "predicted = tf.equal(tf.argmax(Y, 1), tf.argmax(hypo, 1))\n",
    "accuracy = tf.reduce_mean(tf.cast(predicted, dtype=tf.float32))"
   ]
  },
  {
   "cell_type": "code",
   "execution_count": 18,
   "metadata": {},
   "outputs": [
    {
     "name": "stdout",
     "output_type": "stream",
     "text": [
      "Epoch=1, cost_train=222.9836, acc_train: 0.0765, cost_test=442.1791, acc_test: 0.3732\n",
      "Epoch=51, cost_train=1.5993, acc_train: 0.8896, cost_test=1.6730, acc_test: 0.8889\n",
      "Epoch=101, cost_train=0.5522, acc_train: 0.9105, cost_test=0.8066, acc_test: 0.9006\n",
      "Epoch=151, cost_train=0.3526, acc_train: 0.9308, cost_test=0.6667, acc_test: 0.9134\n",
      "Epoch=201, cost_train=0.2594, acc_train: 0.9441, cost_test=0.6147, acc_test: 0.9193\n",
      "Epoch=251, cost_train=0.2025, acc_train: 0.9528, cost_test=0.5867, acc_test: 0.9230\n",
      "Epoch=301, cost_train=0.1661, acc_train: 0.9596, cost_test=0.5687, acc_test: 0.9259\n",
      "Epoch=351, cost_train=0.1405, acc_train: 0.9650, cost_test=0.5615, acc_test: 0.9284\n",
      "Epoch=401, cost_train=0.1221, acc_train: 0.9684, cost_test=0.5576, acc_test: 0.9290\n",
      "Epoch=451, cost_train=0.1080, acc_train: 0.9720, cost_test=0.5582, acc_test: 0.9308\n",
      "Epoch=501, cost_train=0.0960, acc_train: 0.9747, cost_test=0.5577, acc_test: 0.9313\n",
      "Epoch=551, cost_train=0.0866, acc_train: 0.9770, cost_test=0.5586, acc_test: 0.9334\n",
      "Epoch=601, cost_train=0.0792, acc_train: 0.9790, cost_test=0.5606, acc_test: 0.9337\n",
      "Epoch=651, cost_train=0.0723, acc_train: 0.9807, cost_test=0.5657, acc_test: 0.9351\n",
      "Epoch=701, cost_train=0.0668, acc_train: 0.9821, cost_test=0.5679, acc_test: 0.9362\n",
      "Epoch=751, cost_train=0.0619, acc_train: 0.9836, cost_test=0.5716, acc_test: 0.9362\n",
      "Epoch=801, cost_train=0.0576, acc_train: 0.9847, cost_test=0.5743, acc_test: 0.9378\n",
      "Epoch=851, cost_train=0.0537, acc_train: 0.9858, cost_test=0.5818, acc_test: 0.9381\n",
      "Epoch=901, cost_train=0.0503, acc_train: 0.9866, cost_test=0.5870, acc_test: 0.9386\n",
      "Epoch=951, cost_train=0.0558, acc_train: 0.9845, cost_test=0.5456, acc_test: 0.9406\n",
      "Epoch=1001, cost_train=0.0447, acc_train: 0.9880, cost_test=0.5608, acc_test: 0.9411\n"
     ]
    }
   ],
   "source": [
    "# 학습\n",
    "sess = tf.Session()\n",
    "sess.run(tf.global_variables_initializer())\n",
    "\n",
    "for epoch in range(1001):\n",
    "    _, cost_train, acc_train = sess.run([train, cost, accuracy], feed_dict = {X: X_train, Y: Y_train})\n",
    "    if epoch % 50 == 0:\n",
    "        cost_test, acc_test = sess.run([cost, accuracy], feed_dict = {X: X_test, Y: Y_test})\n",
    "        print(\"Epoch=%d, cost_train=%.4f, acc_train: %.4f, cost_test=%.4f, acc_test: %.4f\" % \n",
    "              (epoch + 1, cost_train, acc_train, cost_test, acc_test))"
   ]
  },
  {
   "cell_type": "code",
   "execution_count": 19,
   "metadata": {},
   "outputs": [
    {
     "name": "stdout",
     "output_type": "stream",
     "text": [
      "Accuracy: 0.9411\n"
     ]
    }
   ],
   "source": [
    "# 평가\n",
    "acc = sess.run(accuracy, feed_dict = {X: X_test, Y: Y_test})\n",
    "print(\"Accuracy: %.4f\" % acc)"
   ]
  },
  {
   "cell_type": "code",
   "execution_count": null,
   "metadata": {},
   "outputs": [],
   "source": []
  }
 ],
 "metadata": {
  "kernelspec": {
   "display_name": "Python 3",
   "language": "python",
   "name": "python3"
  },
  "language_info": {
   "codemirror_mode": {
    "name": "ipython",
    "version": 3
   },
   "file_extension": ".py",
   "mimetype": "text/x-python",
   "name": "python",
   "nbconvert_exporter": "python",
   "pygments_lexer": "ipython3",
   "version": "3.7.3"
  }
 },
 "nbformat": 4,
 "nbformat_minor": 2
}
